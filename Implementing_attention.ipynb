{
  "nbformat": 4,
  "nbformat_minor": 0,
  "metadata": {
    "colab": {
      "provenance": []
    },
    "kernelspec": {
      "name": "python3",
      "display_name": "Python 3"
    },
    "language_info": {
      "name": "python"
    }
  },
  "cells": [
    {
      "cell_type": "code",
      "execution_count": null,
      "metadata": {
        "id": "qyXy8opZHXQ0"
      },
      "outputs": [],
      "source": [
        "import torch\n",
        "from torch import nn\n",
        "import numpy as np\n",
        "import matplotlib.pyplot as plt\n",
        "import seaborn as sns\n",
        "from mpl_toolkits.mplot3d import Axes3D"
      ]
    },
    {
      "cell_type": "code",
      "source": [
        "L = 4 # length of sequence. lets say -> Hello I am Rishabh.\n",
        "d_k = 8\n",
        "d_v = 8\n",
        "\n",
        "q = torch.randn(L, d_k) #Query -> what am i looking for?\n",
        "k = torch.randn(L, d_k) #Key -> what i can offer\n",
        "v = torch.randn(L, d_v) #Value -> what i actually offer"
      ],
      "metadata": {
        "id": "lIm6GsZTJ8gN"
      },
      "execution_count": null,
      "outputs": []
    },
    {
      "cell_type": "code",
      "source": [
        "v.dtype"
      ],
      "metadata": {
        "colab": {
          "base_uri": "https://localhost:8080/"
        },
        "id": "36M45SR2jbEZ",
        "outputId": "d9935c9c-4a73-498f-abb0-6101e5f7a9aa"
      },
      "execution_count": 87,
      "outputs": [
        {
          "output_type": "execute_result",
          "data": {
            "text/plain": [
              "torch.float32"
            ]
          },
          "metadata": {},
          "execution_count": 87
        }
      ]
    },
    {
      "cell_type": "code",
      "source": [
        "print(\"Q\\n\", q)\n",
        "print(\"K\\n\", k)\n",
        "print(\"V\\n\", v)"
      ],
      "metadata": {
        "colab": {
          "base_uri": "https://localhost:8080/"
        },
        "id": "al-IyXMmcMgj",
        "outputId": "7f48cc61-345c-43df-e698-8f46cd04575f"
      },
      "execution_count": null,
      "outputs": [
        {
          "output_type": "stream",
          "name": "stdout",
          "text": [
            "Q\n",
            " tensor([[-0.1098,  0.0965, -1.4932,  0.5238,  0.7531, -0.2219,  0.5819, -1.9369],\n",
            "        [-1.5334, -0.1797, -0.6578, -1.2317, -1.2464, -1.4996, -0.5404,  1.2410],\n",
            "        [-1.6212, -0.9036,  1.3968,  0.9178,  0.5120, -0.8406, -1.0445,  0.5548],\n",
            "        [-0.9493,  1.0457, -1.1298, -2.8006,  1.2797,  0.2200,  0.3249,  1.3190]])\n",
            "K\n",
            " tensor([[-0.8497, -0.6987, -0.2052, -0.7812,  0.6873,  0.7836, -1.1109, -3.1063],\n",
            "        [-0.9898, -0.6022, -0.7153, -0.4674,  0.5514,  2.6549,  1.0582, -0.1468],\n",
            "        [-0.8913,  0.1938,  1.9682, -0.7404, -0.8666, -0.3064, -0.5359, -0.3575],\n",
            "        [-1.2399, -1.5235, -0.8159,  1.1373,  0.2193,  0.4134,  0.0062, -0.5673]])\n",
            "V\n",
            " tensor([[-0.1704, -0.3028, -1.2868, -1.3663, -0.0463, -0.6150,  1.2367, -0.8144],\n",
            "        [ 1.1462, -1.1787, -0.0367,  0.6718,  0.9242,  0.2697,  0.6285, -0.7066],\n",
            "        [-0.8558,  0.9041, -0.5659,  0.3841, -0.7816, -0.1509,  0.4199,  1.4059],\n",
            "        [-0.8271,  1.5608, -1.0952,  1.1855,  1.1881,  2.0556,  0.6603, -1.1078]])\n"
          ]
        }
      ]
    },
    {
      "cell_type": "code",
      "source": [
        "torch.matmul(q, k.T)"
      ],
      "metadata": {
        "id": "eAgkRrEbcsdf",
        "colab": {
          "base_uri": "https://localhost:8080/"
        },
        "outputId": "ea94feac-60e0-4329-eea1-b7c7c2b0f1d3"
      },
      "execution_count": 49,
      "outputs": [
        {
          "output_type": "execute_result",
          "data": {
            "text/plain": [
              "tensor([[ 5.6369,  1.6001, -3.4142,  2.9788],\n",
              "        [-2.7607, -2.7506,  2.3348, -0.2896],\n",
              "        [ 0.1356, -2.4155,  3.5149,  2.7347],\n",
              "        [-0.9109,  3.8669, -0.9234, -3.0542]])"
            ]
          },
          "metadata": {},
          "execution_count": 49
        }
      ]
    },
    {
      "cell_type": "code",
      "source": [
        "scaled = torch.matmul(q, k.T)/np.sqrt(d_k)\n",
        "scaled"
      ],
      "metadata": {
        "colab": {
          "base_uri": "https://localhost:8080/"
        },
        "id": "_JLCQH95hGkD",
        "outputId": "b04d7784-1e50-4e26-d879-0e0a36f6788c"
      },
      "execution_count": 52,
      "outputs": [
        {
          "output_type": "execute_result",
          "data": {
            "text/plain": [
              "tensor([[ 1.9930,  0.5657, -1.2071,  1.0532],\n",
              "        [-0.9761, -0.9725,  0.8255, -0.1024],\n",
              "        [ 0.0479, -0.8540,  1.2427,  0.9669],\n",
              "        [-0.3221,  1.3671, -0.3265, -1.0798]])"
            ]
          },
          "metadata": {},
          "execution_count": 52
        }
      ]
    },
    {
      "cell_type": "code",
      "source": [
        "q.var(), k.var(), scaled.var()"
      ],
      "metadata": {
        "colab": {
          "base_uri": "https://localhost:8080/"
        },
        "id": "_N3Zqp2FhPvp",
        "outputId": "205c6949-c203-485f-899c-52c33678c3a0"
      },
      "execution_count": 53,
      "outputs": [
        {
          "output_type": "execute_result",
          "data": {
            "text/plain": [
              "(tensor(1.2201), tensor(1.1403), tensor(1.0397))"
            ]
          },
          "metadata": {},
          "execution_count": 53
        }
      ]
    },
    {
      "cell_type": "code",
      "source": [
        "mask = np.tril(np.ones((L, L)))\n",
        "mask"
      ],
      "metadata": {
        "colab": {
          "base_uri": "https://localhost:8080/"
        },
        "id": "xU4QDs2hhWqS",
        "outputId": "97b68601-b7af-41e0-ce26-58eafb9d851f"
      },
      "execution_count": 56,
      "outputs": [
        {
          "output_type": "execute_result",
          "data": {
            "text/plain": [
              "array([[1., 0., 0., 0.],\n",
              "       [1., 1., 0., 0.],\n",
              "       [1., 1., 1., 0.],\n",
              "       [1., 1., 1., 1.]])"
            ]
          },
          "metadata": {},
          "execution_count": 56
        }
      ]
    },
    {
      "cell_type": "code",
      "source": [
        "mask[mask == 0] = -np.inf\n",
        "mask[mask == 1] = 0\n",
        "mask"
      ],
      "metadata": {
        "colab": {
          "base_uri": "https://localhost:8080/"
        },
        "id": "BHq_Ii8QhgYV",
        "outputId": "f659e8c8-fb64-49a8-be74-bb2651d3274a"
      },
      "execution_count": 57,
      "outputs": [
        {
          "output_type": "execute_result",
          "data": {
            "text/plain": [
              "array([[  0., -inf, -inf, -inf],\n",
              "       [  0.,   0., -inf, -inf],\n",
              "       [  0.,   0.,   0., -inf],\n",
              "       [  0.,   0.,   0.,   0.]])"
            ]
          },
          "metadata": {},
          "execution_count": 57
        }
      ]
    },
    {
      "cell_type": "code",
      "source": [
        "masked = scaled + mask\n",
        "masked"
      ],
      "metadata": {
        "colab": {
          "base_uri": "https://localhost:8080/"
        },
        "id": "qsXt4j10hwTn",
        "outputId": "af15751a-714a-4310-c8e7-8c4d63712b7c"
      },
      "execution_count": 58,
      "outputs": [
        {
          "output_type": "execute_result",
          "data": {
            "text/plain": [
              "tensor([[ 1.9930,    -inf,    -inf,    -inf],\n",
              "        [-0.9761, -0.9725,    -inf,    -inf],\n",
              "        [ 0.0479, -0.8540,  1.2427,    -inf],\n",
              "        [-0.3221,  1.3671, -0.3265, -1.0798]], dtype=torch.float64)"
            ]
          },
          "metadata": {},
          "execution_count": 58
        }
      ]
    },
    {
      "cell_type": "code",
      "source": [
        "attention= nn.Softmax(dim = 1)(masked).to(torch.float32)\n"
      ],
      "metadata": {
        "id": "X39E_Hhhh0ep"
      },
      "execution_count": 88,
      "outputs": []
    },
    {
      "cell_type": "code",
      "source": [
        "attention"
      ],
      "metadata": {
        "colab": {
          "base_uri": "https://localhost:8080/"
        },
        "id": "2OwgUPR5iAVN",
        "outputId": "20c80c1a-a2ae-4a7e-ef80-eac97ce2dc62"
      },
      "execution_count": 89,
      "outputs": [
        {
          "output_type": "execute_result",
          "data": {
            "text/plain": [
              "tensor([[1.0000, 0.0000, 0.0000, 0.0000],\n",
              "        [0.4991, 0.5009, 0.0000, 0.0000],\n",
              "        [0.2124, 0.0862, 0.7014, 0.0000],\n",
              "        [0.1269, 0.6873, 0.1264, 0.0595]])"
            ]
          },
          "metadata": {},
          "execution_count": 89
        }
      ]
    },
    {
      "cell_type": "code",
      "source": [
        "new_v = torch.matmul(attention, v)\n",
        "new_v"
      ],
      "metadata": {
        "colab": {
          "base_uri": "https://localhost:8080/"
        },
        "id": "-4Le3eAmiB2Q",
        "outputId": "7691b2ec-bbe0-4f09-fa02-7933a2dfa6fa"
      },
      "execution_count": 90,
      "outputs": [
        {
          "output_type": "execute_result",
          "data": {
            "text/plain": [
              "tensor([[-0.1704, -0.3028, -1.2868, -1.3663, -0.0463, -0.6150,  1.2367, -0.8144],\n",
              "        [ 0.4891, -0.7415, -0.6606, -0.3454,  0.4399, -0.1718,  0.9321, -0.7604],\n",
              "        [-0.5377,  0.4683, -0.6734,  0.0371, -0.4784, -0.2132,  0.6114,  0.7523],\n",
              "        [ 0.6088, -0.6414, -0.3252,  0.4074,  0.6012,  0.2105,  0.6812, -0.4772]])"
            ]
          },
          "metadata": {},
          "execution_count": 90
        }
      ]
    },
    {
      "cell_type": "code",
      "source": [
        "v"
      ],
      "metadata": {
        "colab": {
          "base_uri": "https://localhost:8080/"
        },
        "id": "meX7Wc9PiXLj",
        "outputId": "3e34f723-22e6-476f-d28e-105109bc98cc"
      },
      "execution_count": 91,
      "outputs": [
        {
          "output_type": "execute_result",
          "data": {
            "text/plain": [
              "tensor([[-0.1704, -0.3028, -1.2868, -1.3663, -0.0463, -0.6150,  1.2367, -0.8144],\n",
              "        [ 1.1462, -1.1787, -0.0367,  0.6718,  0.9242,  0.2697,  0.6285, -0.7066],\n",
              "        [-0.8558,  0.9041, -0.5659,  0.3841, -0.7816, -0.1509,  0.4199,  1.4059],\n",
              "        [-0.8271,  1.5608, -1.0952,  1.1855,  1.1881,  2.0556,  0.6603, -1.1078]])"
            ]
          },
          "metadata": {},
          "execution_count": 91
        }
      ]
    },
    {
      "cell_type": "markdown",
      "source": [
        "# Multi Head Attention\n"
      ],
      "metadata": {
        "id": "t3xr_UPJq_8s"
      }
    },
    {
      "cell_type": "code",
      "source": [
        "import torch\n",
        "from torch import nn\n",
        "import numpy as np"
      ],
      "metadata": {
        "id": "sJGsTCu5jpnr"
      },
      "execution_count": 92,
      "outputs": []
    },
    {
      "cell_type": "code",
      "source": [
        "sequence_length = 4\n",
        "batch_size = 1\n",
        "input_dim = 512\n",
        "d_model = 512\n",
        "x = torch.randn((batch_size, sequence_length, input_dim))\n",
        "x.shape"
      ],
      "metadata": {
        "colab": {
          "base_uri": "https://localhost:8080/"
        },
        "id": "QrdrRnTzrHsQ",
        "outputId": "6760e680-ca9f-47f5-cea7-b459bdda99d7"
      },
      "execution_count": 95,
      "outputs": [
        {
          "output_type": "execute_result",
          "data": {
            "text/plain": [
              "torch.Size([1, 4, 512])"
            ]
          },
          "metadata": {},
          "execution_count": 95
        }
      ]
    },
    {
      "cell_type": "code",
      "source": [
        "qkv_layer = nn.Linear(in_features = input_dim,\n",
        "                      out_features = 3 * d_model)"
      ],
      "metadata": {
        "id": "_LHlFnlkreA7"
      },
      "execution_count": 96,
      "outputs": []
    },
    {
      "cell_type": "code",
      "source": [
        "qkv = qkv_layer(x)"
      ],
      "metadata": {
        "id": "gwghxfqirtWq"
      },
      "execution_count": 99,
      "outputs": []
    },
    {
      "cell_type": "code",
      "source": [
        "qkv.shape"
      ],
      "metadata": {
        "colab": {
          "base_uri": "https://localhost:8080/"
        },
        "id": "KKJV126brwOF",
        "outputId": "5b6932b9-af5f-42c6-c1ae-cb433e16408a"
      },
      "execution_count": 100,
      "outputs": [
        {
          "output_type": "execute_result",
          "data": {
            "text/plain": [
              "torch.Size([1, 4, 1536])"
            ]
          },
          "metadata": {},
          "execution_count": 100
        }
      ]
    },
    {
      "cell_type": "code",
      "source": [
        "num_heads = 8\n",
        "head_dim = d_model // num_heads\n",
        "qkv = qkv.reshape(batch_size, sequence_length, num_heads, 3 * head_dim)\n",
        "qkv.shape"
      ],
      "metadata": {
        "colab": {
          "base_uri": "https://localhost:8080/"
        },
        "id": "M6w6-g6VsFrk",
        "outputId": "241a7c45-060b-401e-899e-e290ebebbe1f"
      },
      "execution_count": 101,
      "outputs": [
        {
          "output_type": "execute_result",
          "data": {
            "text/plain": [
              "torch.Size([1, 4, 8, 192])"
            ]
          },
          "metadata": {},
          "execution_count": 101
        }
      ]
    },
    {
      "cell_type": "code",
      "source": [
        "qkv = qkv.permute(0, 2, 1, 3)\n",
        "qkv.shape"
      ],
      "metadata": {
        "colab": {
          "base_uri": "https://localhost:8080/"
        },
        "id": "4GUPCFPdspyc",
        "outputId": "2f6af422-2d56-4262-c360-ca0ca5af9858"
      },
      "execution_count": 102,
      "outputs": [
        {
          "output_type": "execute_result",
          "data": {
            "text/plain": [
              "torch.Size([1, 8, 4, 192])"
            ]
          },
          "metadata": {},
          "execution_count": 102
        }
      ]
    },
    {
      "cell_type": "code",
      "source": [
        "q, k, v = qkv.chunk(3, dim = -1)\n",
        "q.shape, k.shape, v.shape"
      ],
      "metadata": {
        "colab": {
          "base_uri": "https://localhost:8080/"
        },
        "id": "n65H00H2sztW",
        "outputId": "50b6d992-2d38-4046-acd7-5b3adc32b29b"
      },
      "execution_count": 112,
      "outputs": [
        {
          "output_type": "execute_result",
          "data": {
            "text/plain": [
              "(torch.Size([1, 8, 4, 64]),\n",
              " torch.Size([1, 8, 4, 64]),\n",
              " torch.Size([1, 8, 4, 64]))"
            ]
          },
          "metadata": {},
          "execution_count": 112
        }
      ]
    },
    {
      "cell_type": "code",
      "source": [
        "d_k = k.shape[-1]\n",
        "scaled = torch.matmul(q, k.transpose(3, 2))/np.sqrt(d_k)\n",
        "scaled.shape"
      ],
      "metadata": {
        "colab": {
          "base_uri": "https://localhost:8080/"
        },
        "id": "FO2cm3v8uHgP",
        "outputId": "98ee29b3-708f-430d-c375-ec873df19a4f"
      },
      "execution_count": 124,
      "outputs": [
        {
          "output_type": "execute_result",
          "data": {
            "text/plain": [
              "torch.Size([1, 8, 4, 4])"
            ]
          },
          "metadata": {},
          "execution_count": 124
        }
      ]
    },
    {
      "cell_type": "code",
      "source": [
        "mask = torch.full(scaled.size(), float('-inf'))\n",
        "mask = mask.triu(diagonal=1)\n",
        "mask[0][1]"
      ],
      "metadata": {
        "colab": {
          "base_uri": "https://localhost:8080/"
        },
        "id": "30ImKcJtuPmO",
        "outputId": "471fe85a-0cfa-46e1-82a9-c8d4a36560a9"
      },
      "execution_count": 128,
      "outputs": [
        {
          "output_type": "execute_result",
          "data": {
            "text/plain": [
              "tensor([[0., -inf, -inf, -inf],\n",
              "        [0., 0., -inf, -inf],\n",
              "        [0., 0., 0., -inf],\n",
              "        [0., 0., 0., 0.]])"
            ]
          },
          "metadata": {},
          "execution_count": 128
        }
      ]
    },
    {
      "cell_type": "code",
      "source": [
        "(scaled + mask)[0][0]"
      ],
      "metadata": {
        "colab": {
          "base_uri": "https://localhost:8080/"
        },
        "id": "9TCD4zdGwHUa",
        "outputId": "c4b90cfe-cf4a-4a81-e76d-ad5b1a685d61"
      },
      "execution_count": 129,
      "outputs": [
        {
          "output_type": "execute_result",
          "data": {
            "text/plain": [
              "tensor([[ 0.4696,    -inf,    -inf,    -inf],\n",
              "        [ 0.7221,  0.0282,    -inf,    -inf],\n",
              "        [-0.0234,  0.0427,  0.3621,    -inf],\n",
              "        [ 0.2339,  0.6128,  0.0339,  0.3698]], grad_fn=<SelectBackward0>)"
            ]
          },
          "metadata": {},
          "execution_count": 129
        }
      ]
    },
    {
      "cell_type": "code",
      "source": [
        "scaled += mask"
      ],
      "metadata": {
        "id": "uw-V4rj0wkM5"
      },
      "execution_count": 130,
      "outputs": []
    },
    {
      "cell_type": "code",
      "source": [
        "attention = nn.Softmax(dim = -1) (scaled)\n",
        "attention[0][0]"
      ],
      "metadata": {
        "colab": {
          "base_uri": "https://localhost:8080/"
        },
        "id": "5lJlkb7pww6h",
        "outputId": "c202f2a6-38fb-4b71-9ad9-b6ce33118520"
      },
      "execution_count": 132,
      "outputs": [
        {
          "output_type": "execute_result",
          "data": {
            "text/plain": [
              "tensor([[1.0000, 0.0000, 0.0000, 0.0000],\n",
              "        [0.6668, 0.3332, 0.0000, 0.0000],\n",
              "        [0.2826, 0.3019, 0.4155, 0.0000],\n",
              "        [0.2260, 0.3301, 0.1850, 0.2589]], grad_fn=<SelectBackward0>)"
            ]
          },
          "metadata": {},
          "execution_count": 132
        }
      ]
    },
    {
      "cell_type": "code",
      "source": [
        "value = torch.matmul(attention,v)\n",
        "value.shape"
      ],
      "metadata": {
        "colab": {
          "base_uri": "https://localhost:8080/"
        },
        "id": "p8SSBZrUw7nZ",
        "outputId": "f79f810a-666a-49be-c03f-1302458545b7"
      },
      "execution_count": 133,
      "outputs": [
        {
          "output_type": "execute_result",
          "data": {
            "text/plain": [
              "torch.Size([1, 8, 4, 64])"
            ]
          },
          "metadata": {},
          "execution_count": 133
        }
      ]
    },
    {
      "cell_type": "code",
      "source": [
        "def scaled_dot_product_attention(query, key, value, mask = None):\n",
        "  d_k = key.shape[-1]\n",
        "  scaled = torch.matmul(query, key.transpose(-1,2))/np.sqrt(d_k)\n",
        "  if mask is not None:\n",
        "    scaled += mask\n",
        "  attention = nn.Softmax(dim = -1)(scaled)\n",
        "  values = torch.matmul(attention, value)\n",
        "  return values, attention"
      ],
      "metadata": {
        "id": "7rgmLbIfxNFx"
      },
      "execution_count": 135,
      "outputs": []
    },
    {
      "cell_type": "code",
      "source": [
        "values, attention = scaled_dot_product_attention(q, k, v, mask = mask)"
      ],
      "metadata": {
        "id": "w6APnyv0yEef"
      },
      "execution_count": 137,
      "outputs": []
    },
    {
      "cell_type": "code",
      "source": [
        "attention[0][0]"
      ],
      "metadata": {
        "colab": {
          "base_uri": "https://localhost:8080/"
        },
        "id": "B_6HYpSRyLOe",
        "outputId": "fc7f1da4-3e57-4948-c56e-13987ecbe64d"
      },
      "execution_count": 138,
      "outputs": [
        {
          "output_type": "execute_result",
          "data": {
            "text/plain": [
              "tensor([[1.0000, 0.0000, 0.0000, 0.0000],\n",
              "        [0.6668, 0.3332, 0.0000, 0.0000],\n",
              "        [0.2826, 0.3019, 0.4155, 0.0000],\n",
              "        [0.2260, 0.3301, 0.1850, 0.2589]], grad_fn=<SelectBackward0>)"
            ]
          },
          "metadata": {},
          "execution_count": 138
        }
      ]
    },
    {
      "cell_type": "code",
      "source": [
        "values.shape"
      ],
      "metadata": {
        "colab": {
          "base_uri": "https://localhost:8080/"
        },
        "id": "9VKJD1J7yQM6",
        "outputId": "6daa7fc5-1b47-4f99-df5a-e21f51ff0a81"
      },
      "execution_count": 139,
      "outputs": [
        {
          "output_type": "execute_result",
          "data": {
            "text/plain": [
              "torch.Size([1, 8, 4, 64])"
            ]
          },
          "metadata": {},
          "execution_count": 139
        }
      ]
    },
    {
      "cell_type": "code",
      "source": [
        "values = values.reshape(batch_size, sequence_length, num_heads * head_dim)\n",
        "values.shape"
      ],
      "metadata": {
        "colab": {
          "base_uri": "https://localhost:8080/"
        },
        "id": "elxbuxhtyZF5",
        "outputId": "e0f8abf8-b27e-4d18-b62c-1cdd08383d54"
      },
      "execution_count": 140,
      "outputs": [
        {
          "output_type": "execute_result",
          "data": {
            "text/plain": [
              "torch.Size([1, 4, 512])"
            ]
          },
          "metadata": {},
          "execution_count": 140
        }
      ]
    },
    {
      "cell_type": "code",
      "source": [
        "linear_layer = nn.Linear(in_features = d_model,\n",
        "                       out_features = d_model)"
      ],
      "metadata": {
        "id": "EY9qf6F5ye_Z"
      },
      "execution_count": 141,
      "outputs": []
    },
    {
      "cell_type": "code",
      "source": [
        "out = linear_layer(values)\n",
        "out.shape"
      ],
      "metadata": {
        "colab": {
          "base_uri": "https://localhost:8080/"
        },
        "id": "oeGytuycyntI",
        "outputId": "2cffc91b-8ce9-468b-820d-08912f77e44f"
      },
      "execution_count": 142,
      "outputs": [
        {
          "output_type": "execute_result",
          "data": {
            "text/plain": [
              "torch.Size([1, 4, 512])"
            ]
          },
          "metadata": {},
          "execution_count": 142
        }
      ]
    },
    {
      "cell_type": "code",
      "source": [],
      "metadata": {
        "id": "67ooVR7Syq0M"
      },
      "execution_count": null,
      "outputs": []
    }
  ]
}