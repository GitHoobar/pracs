{
  "nbformat": 4,
  "nbformat_minor": 0,
  "metadata": {
    "colab": {
      "provenance": []
    },
    "kernelspec": {
      "name": "python3",
      "display_name": "Python 3"
    },
    "language_info": {
      "name": "python"
    }
  },
  "cells": [
    {
      "cell_type": "code",
      "source": [
        "import torch\n",
        "import torch.nn as nn"
      ],
      "metadata": {
        "id": "wwZLzG5RAo5W"
      },
      "execution_count": 9,
      "outputs": []
    },
    {
      "cell_type": "code",
      "source": [
        "class ConvBlock(nn.Module):\n",
        "  def __init__(self, in_channels, out_channels, kernel_size = 3, stride = 2):\n",
        "    super(ConvBlock, self).__init__()\n",
        "    self.conv = nn.Sequential(nn.Conv2d(in_channels, out_channels, kernel_size),\n",
        "                              nn.ReLU(inplace = True),\n",
        "                              nn.Conv2d(out_channels, out_channels, kernel_size),\n",
        "                              nn.ReLU(inplace = True))\n",
        "\n",
        "  def forward(self, x):\n",
        "    return self.conv(x)"
      ],
      "metadata": {
        "id": "4m5I3MaLCdxR"
      },
      "execution_count": 14,
      "outputs": []
    },
    {
      "cell_type": "code",
      "source": [
        "def crop_img(tensor, target_tensor):\n",
        "  target_size = target_tensor.size()[2]\n",
        "  tensor_size = tensor.size()[2]\n",
        "  delta = tensor_size - target_size\n",
        "  delta = delta // 2\n",
        "  return tensor[:, :, delta:tensor_size - delta, delta:tensor_size - delta]"
      ],
      "metadata": {
        "id": "_gCO-adTOoHH"
      },
      "execution_count": 78,
      "outputs": []
    },
    {
      "cell_type": "code",
      "source": [
        "class Unet(nn.Module):\n",
        "  def __init__ (self):\n",
        "    super(Unet, self).__init__()\n",
        "\n",
        "    self.maxpool = nn.MaxPool2d(kernel_size = 2, stride = 2)\n",
        "\n",
        "    self.down_conv_1 = ConvBlock(1, 64)\n",
        "\n",
        "    self.down_conv_2 = ConvBlock(64, 128)\n",
        "\n",
        "    self.down_conv_3 = ConvBlock(128, 256)\n",
        "\n",
        "    self.down_conv_4 = ConvBlock(256, 512)\n",
        "\n",
        "    self.down_conv_5 = ConvBlock(512, 1024)\n",
        "\n",
        "    self.up_trans_1 = nn.ConvTranspose2d(1024, 512, kernel_size = 2, stride = 2)\n",
        "\n",
        "    self.up_conv_1 = ConvBlock(1024, 512)\n",
        "\n",
        "    self.up_trans_2 = nn.ConvTranspose2d(512, 256, kernel_size = 2, stride = 2)\n",
        "\n",
        "    self.up_conv_2 = ConvBlock(512, 256)\n",
        "\n",
        "    self.up_trans_3 = nn.ConvTranspose2d(256, 128, kernel_size = 2, stride = 2)\n",
        "\n",
        "    self.up_conv_3 = ConvBlock(256, 128)\n",
        "\n",
        "    self.up_trans_4 = nn.ConvTranspose2d(128, 64, kernel_size = 2, stride = 2)\n",
        "\n",
        "    self.up_conv_4 = ConvBlock(128, 64)\n",
        "\n",
        "    self.one_conv = nn.Conv2d(64, 2, kernel_size = 1)\n",
        "\n",
        "  def forward(self, images):\n",
        "    #encoder\n",
        "    x1 = self.down_conv_1(images)\n",
        "    print(x1.shape)\n",
        "    x2 = self.maxpool(x1)\n",
        "    x3 = self.down_conv_2(x2)\n",
        "    x4 = self.maxpool(x3)\n",
        "    x5 = self.down_conv_3(x4)\n",
        "    x6 = self.maxpool(x5)\n",
        "    x7 = self.down_conv_4(x6)\n",
        "    x8 = self.maxpool(x7)\n",
        "    x9 = self.down_conv_5(x8)\n",
        "    print(x8.shape)\n",
        "\n",
        "    #decoder\n",
        "\n",
        "    x = self.up_trans_1(x9)\n",
        "    print(x.shape)\n",
        "    y = crop_img(x7, x)\n",
        "    x = self.up_conv_1(torch.cat([x, y], 1))\n",
        "    print(x.shape)\n",
        "    x = self.up_trans_2(x)\n",
        "    y = crop_img(x5, x)\n",
        "    x = self.up_conv_2(torch.cat([x, y], 1))\n",
        "    x = self.up_trans_3(x)\n",
        "    y = crop_img(x3, x)\n",
        "    x = self.up_conv_3(torch.cat([x, y], 1))\n",
        "    x = self.up_trans_4(x)\n",
        "    y = crop_img(x1, x)\n",
        "    x = self.up_conv_4(torch.cat([x, y], 1))\n",
        "    print(x.shape)\n",
        "    x = self.one_conv(x)\n",
        "    print(x.shape)\n",
        "    return x"
      ],
      "metadata": {
        "id": "Wmm0NkA_DNzv"
      },
      "execution_count": 99,
      "outputs": []
    },
    {
      "cell_type": "code",
      "source": [
        "model = Unet()"
      ],
      "metadata": {
        "id": "7A19h-QkIn93"
      },
      "execution_count": 100,
      "outputs": []
    },
    {
      "cell_type": "code",
      "source": [
        "image = torch.rand((1, 1, 572, 572))"
      ],
      "metadata": {
        "id": "HZ9wGAFeIq3o"
      },
      "execution_count": 101,
      "outputs": []
    },
    {
      "cell_type": "code",
      "source": [
        " m = model(image)"
      ],
      "metadata": {
        "colab": {
          "base_uri": "https://localhost:8080/"
        },
        "id": "FenDC_MJI9pK",
        "outputId": "ceb9ff40-e10d-41fa-ec8a-eacd14126f58"
      },
      "execution_count": 102,
      "outputs": [
        {
          "output_type": "stream",
          "name": "stdout",
          "text": [
            "torch.Size([1, 64, 568, 568])\n",
            "torch.Size([1, 512, 32, 32])\n",
            "torch.Size([1, 512, 56, 56])\n",
            "torch.Size([1, 512, 52, 52])\n",
            "torch.Size([1, 64, 388, 388])\n",
            "torch.Size([1, 2, 388, 388])\n"
          ]
        }
      ]
    },
    {
      "cell_type": "code",
      "source": [],
      "metadata": {
        "id": "iFlP-FS2JPsQ"
      },
      "execution_count": 102,
      "outputs": []
    }
  ]
}