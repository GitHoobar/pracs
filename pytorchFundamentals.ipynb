{
  "nbformat": 4,
  "nbformat_minor": 0,
  "metadata": {
    "colab": {
      "provenance": []
    },
    "kernelspec": {
      "name": "python3",
      "display_name": "Python 3"
    },
    "language_info": {
      "name": "python"
    }
  },
  "cells": [
    {
      "cell_type": "code",
      "source": [
        "import torch\n",
        "from torch import nn\n",
        "device = 'cuda' if torch.cuda.is_available() else 'cpu'"
      ],
      "metadata": {
        "id": "E93CQoDQTgIt"
      },
      "execution_count": null,
      "outputs": []
    },
    {
      "cell_type": "code",
      "source": [
        "weight = 0.7\n",
        "bias = 0.2\n",
        "\n",
        "X = torch.arange(0,1, 0.02).unsqueeze(dim=1)\n",
        "y = weight * X + bias\n",
        "\n",
        "X[:10],y[:10]"
      ],
      "metadata": {
        "colab": {
          "base_uri": "https://localhost:8080/"
        },
        "id": "49dfbYw4TpUT",
        "outputId": "a9d8d5c5-9c6e-4ef2-b042-fb481afc26c0"
      },
      "execution_count": null,
      "outputs": [
        {
          "output_type": "execute_result",
          "data": {
            "text/plain": [
              "(tensor([[0.0000],\n",
              "         [0.0200],\n",
              "         [0.0400],\n",
              "         [0.0600],\n",
              "         [0.0800],\n",
              "         [0.1000],\n",
              "         [0.1200],\n",
              "         [0.1400],\n",
              "         [0.1600],\n",
              "         [0.1800]]),\n",
              " tensor([[0.2000],\n",
              "         [0.2140],\n",
              "         [0.2280],\n",
              "         [0.2420],\n",
              "         [0.2560],\n",
              "         [0.2700],\n",
              "         [0.2840],\n",
              "         [0.2980],\n",
              "         [0.3120],\n",
              "         [0.3260]]))"
            ]
          },
          "metadata": {},
          "execution_count": 32
        }
      ]
    },
    {
      "cell_type": "code",
      "source": [
        "import matplotlib.pyplot as plt\n",
        "\n",
        "plt.scatter(X,y)\n",
        "plt.show()"
      ],
      "metadata": {
        "colab": {
          "base_uri": "https://localhost:8080/",
          "height": 430
        },
        "id": "Q_W7M9SwV-l1",
        "outputId": "adc871be-c4ac-4595-fc9d-cb68ed49c815"
      },
      "execution_count": null,
      "outputs": [
        {
          "output_type": "display_data",
          "data": {
            "text/plain": [
              "<Figure size 640x480 with 1 Axes>"
            ],
            "image/png": "[encoded data removed]"
          },
          "metadata": {}
        }
      ]
    },
    {
      "cell_type": "code",
      "source": [
        "train_split = int(0.8 * len(X))\n",
        "X_train , y_train = X[:train_split], y[:train_split]\n",
        "X_test , y_test = X[train_split:], y[train_split:]"
      ],
      "metadata": {
        "id": "vhYCAym5WRpW"
      },
      "execution_count": null,
      "outputs": []
    },
    {
      "cell_type": "code",
      "source": [
        "#lets build the model now"
      ],
      "metadata": {
        "id": "mvA--zRXYLQs"
      },
      "execution_count": null,
      "outputs": []
    },
    {
      "cell_type": "code",
      "source": [
        "torch.randn(1)"
      ],
      "metadata": {
        "colab": {
          "base_uri": "https://localhost:8080/"
        },
        "id": "oekBzTSba6U1",
        "outputId": "bb0f3d70-612a-4315-f435-32c9a4d236c1"
      },
      "execution_count": null,
      "outputs": [
        {
          "output_type": "execute_result",
          "data": {
            "text/plain": [
              "tensor([-1.0085])"
            ]
          },
          "metadata": {},
          "execution_count": 41
        }
      ]
    },
    {
      "cell_type": "markdown",
      "source": [],
      "metadata": {
        "id": "-UQBvl1jbHjY"
      }
    },
    {
      "cell_type": "code",
      "source": [
        "class LRmodel(nn.Module):\n",
        "  def __init__(self):\n",
        "    super().__init__()\n",
        "    self.weights = nn.Parameter(torch.randn(1,\n",
        "                                            requires_grad = True,\n",
        "                                            dtype = torch.float))\n",
        "    self.bias = nn.Parameter(torch.randn(1,\n",
        "                                         requires_grad = True,\n",
        "                                         dtype = torch.float))\n",
        "  def forward(self, x : torch.tensor) -> torch.Tensor:\n",
        "    return self.weights * x + self.bias\n"
      ],
      "metadata": {
        "id": "t-zK-_cDZ04B"
      },
      "execution_count": null,
      "outputs": []
    },
    {
      "cell_type": "code",
      "source": [
        "torch.manual_seed(42)\n",
        "model_0 = LRmodel()\n",
        "\n",
        "list(model_0.parameters())"
      ],
      "metadata": {
        "colab": {
          "base_uri": "https://localhost:8080/"
        },
        "id": "5E0vP0QzbIb3",
        "outputId": "acf55b1d-abb5-47b5-f042-6b52d9b1561b"
      },
      "execution_count": null,
      "outputs": [
        {
          "output_type": "execute_result",
          "data": {
            "text/plain": [
              "[Parameter containing:\n",
              " tensor([0.3367], requires_grad=True),\n",
              " Parameter containing:\n",
              " tensor([0.1288], requires_grad=True)]"
            ]
          },
          "metadata": {},
          "execution_count": 123
        }
      ]
    },
    {
      "cell_type": "code",
      "source": [
        "model_0.state_dict()"
      ],
      "metadata": {
        "colab": {
          "base_uri": "https://localhost:8080/"
        },
        "id": "5K1SbIQOd6iF",
        "outputId": "7cbf532e-a37d-4167-a28d-4c11efb22f7e"
      },
      "execution_count": null,
      "outputs": [
        {
          "output_type": "execute_result",
          "data": {
            "text/plain": [
              "OrderedDict([('weights', tensor([0.3367])), ('bias', tensor([0.1288]))])"
            ]
          },
          "metadata": {},
          "execution_count": 124
        }
      ]
    },
    {
      "cell_type": "code",
      "source": [
        "with torch.inference_mode():\n",
        "  y_preds = model_0(X_test)\n",
        "\n",
        "y_preds\n"
      ],
      "metadata": {
        "colab": {
          "base_uri": "https://localhost:8080/"
        },
        "id": "82VEJnatepJf",
        "outputId": "02a678c6-d157-4e1e-a030-26aefaac943c"
      },
      "execution_count": null,
      "outputs": [
        {
          "output_type": "execute_result",
          "data": {
            "text/plain": [
              "tensor([[0.3982],\n",
              "        [0.4049],\n",
              "        [0.4116],\n",
              "        [0.4184],\n",
              "        [0.4251],\n",
              "        [0.4318],\n",
              "        [0.4386],\n",
              "        [0.4453],\n",
              "        [0.4520],\n",
              "        [0.4588]])"
            ]
          },
          "metadata": {},
          "execution_count": 125
        }
      ]
    },
    {
      "cell_type": "code",
      "source": [
        "loss_fn = nn.L1Loss()\n",
        "optimizer = torch.optim.SGD(params = model_0.parameters(),\n",
        "                            lr = 0.01)\n"
      ],
      "metadata": {
        "id": "gdUra6KGfRSr"
      },
      "execution_count": null,
      "outputs": []
    },
    {
      "cell_type": "code",
      "source": [
        "epochs = 500\n",
        "\n",
        "epoch_count = []\n",
        "loss_count = []\n",
        "testloss_count = []\n",
        "\n",
        "for epooch in range(epochs):\n",
        "  model_0.train() ### sets all grads to true if they need grads\n",
        "\n",
        "  #forward pass\n",
        "  y_preds = model_0(X_train)\n",
        "\n",
        "  #loss function\n",
        "  loss = loss_fn(y_preds, y_train)\n",
        "\n",
        "\n",
        "  #optimizer\n",
        "  optimizer.zero_grad()\n",
        "\n",
        "  #backprop\n",
        "  loss.backward()\n",
        "\n",
        "  #step the optimizer(preforming grad descent)\n",
        "  optimizer.step()\n",
        "\n",
        "\n",
        "  model_0.eval() ### turn of the gradients\n",
        "  with torch.inference_mode():\n",
        "    test_preds = model_0(X_test)\n",
        "    test_loss = loss_fn(test_preds, y_test)\n",
        "\n",
        "  if epochs % 10 == 0:\n",
        "    epoch_count.append(epooch)\n",
        "    loss_count.append(loss)\n",
        "    testloss_count.append(test_loss)\n",
        "    print(f'epoch: {epochs} | loss: {loss} | test_loss: {test_loss}')\n",
        "    print(model_0.state_dict())"
      ],
      "metadata": {
        "colab": {
          "base_uri": "https://localhost:8080/"
        },
        "collapsed": true,
        "id": "f5Y5iR95guQa",
        "outputId": "3c2e52ba-436d-4be9-bbae-6a244b3ef01b"
      },
      "execution_count": null,
      "outputs": [
        {
          "output_type": "stream",
          "name": "stdout",
          "text": [
            "epoch: 500 | loss: 0.21288137137889862 | test_loss: 0.38106516003608704\n",
            "OrderedDict([('weights', tensor([0.3406])), ('bias', tensor([0.1388]))])\n",
            "epoch: 500 | loss: 0.20136037468910217 | test_loss: 0.3675941526889801\n",
            "OrderedDict([('weights', tensor([0.3445])), ('bias', tensor([0.1488]))])\n",
            "epoch: 500 | loss: 0.18983933329582214 | test_loss: 0.35412317514419556\n",
            "OrderedDict([('weights', tensor([0.3484])), ('bias', tensor([0.1588]))])\n",
            "epoch: 500 | loss: 0.1783183515071869 | test_loss: 0.340652197599411\n",
            "OrderedDict([('weights', tensor([0.3523])), ('bias', tensor([0.1688]))])\n",
            "epoch: 500 | loss: 0.16679733991622925 | test_loss: 0.3271811604499817\n",
            "OrderedDict([('weights', tensor([0.3562])), ('bias', tensor([0.1788]))])\n",
            "epoch: 500 | loss: 0.1552763283252716 | test_loss: 0.31371015310287476\n",
            "OrderedDict([('weights', tensor([0.3601])), ('bias', tensor([0.1888]))])\n",
            "epoch: 500 | loss: 0.14375531673431396 | test_loss: 0.3002391457557678\n",
            "OrderedDict([('weights', tensor([0.3640])), ('bias', tensor([0.1988]))])\n",
            "epoch: 500 | loss: 0.1322343349456787 | test_loss: 0.2867681682109833\n",
            "OrderedDict([('weights', tensor([0.3679])), ('bias', tensor([0.2088]))])\n",
            "epoch: 500 | loss: 0.12126215547323227 | test_loss: 0.274306058883667\n",
            "OrderedDict([('weights', tensor([0.3718])), ('bias', tensor([0.2178]))])\n",
            "epoch: 500 | loss: 0.11188298463821411 | test_loss: 0.2623617649078369\n",
            "OrderedDict([('weights', tensor([0.3757])), ('bias', tensor([0.2263]))])\n",
            "epoch: 500 | loss: 0.10352079570293427 | test_loss: 0.25147974491119385\n",
            "OrderedDict([('weights', tensor([0.3795])), ('bias', tensor([0.2338]))])\n",
            "epoch: 500 | loss: 0.09653951972723007 | test_loss: 0.24114227294921875\n",
            "OrderedDict([('weights', tensor([0.3832])), ('bias', tensor([0.2408]))])\n",
            "epoch: 500 | loss: 0.09037294238805771 | test_loss: 0.231358140707016\n",
            "OrderedDict([('weights', tensor([0.3869])), ('bias', tensor([0.2473]))])\n",
            "epoch: 500 | loss: 0.08496003597974777 | test_loss: 0.22213633358478546\n",
            "OrderedDict([('weights', tensor([0.3905])), ('bias', tensor([0.2533]))])\n",
            "epoch: 500 | loss: 0.08023913949728012 | test_loss: 0.2134857475757599\n",
            "OrderedDict([('weights', tensor([0.3941])), ('bias', tensor([0.2588]))])\n",
            "epoch: 500 | loss: 0.07614791393280029 | test_loss: 0.2054152488708496\n",
            "OrderedDict([('weights', tensor([0.3975])), ('bias', tensor([0.2638]))])\n",
            "epoch: 500 | loss: 0.07262313365936279 | test_loss: 0.19793374836444855\n",
            "OrderedDict([('weights', tensor([0.4009])), ('bias', tensor([0.2683]))])\n",
            "epoch: 500 | loss: 0.06960071623325348 | test_loss: 0.19105014204978943\n",
            "OrderedDict([('weights', tensor([0.4041])), ('bias', tensor([0.2723]))])\n",
            "epoch: 500 | loss: 0.06701551377773285 | test_loss: 0.18477332592010498\n",
            "OrderedDict([('weights', tensor([0.4072])), ('bias', tensor([0.2758]))])\n",
            "epoch: 500 | loss: 0.06481705605983734 | test_loss: 0.17849650979042053\n",
            "OrderedDict([('weights', tensor([0.4103])), ('bias', tensor([0.2793]))])\n",
            "epoch: 500 | loss: 0.06281837821006775 | test_loss: 0.17283539474010468\n",
            "OrderedDict([('weights', tensor([0.4133])), ('bias', tensor([0.2823]))])\n",
            "epoch: 500 | loss: 0.06112634018063545 | test_loss: 0.16779892146587372\n",
            "OrderedDict([('weights', tensor([0.4162])), ('bias', tensor([0.2848]))])\n",
            "epoch: 500 | loss: 0.05968908220529556 | test_loss: 0.16276243329048157\n",
            "OrderedDict([('weights', tensor([0.4190])), ('bias', tensor([0.2873]))])\n",
            "epoch: 500 | loss: 0.058402616530656815 | test_loss: 0.15835940837860107\n",
            "OrderedDict([('weights', tensor([0.4217])), ('bias', tensor([0.2893]))])\n",
            "epoch: 500 | loss: 0.05728661268949509 | test_loss: 0.15459883213043213\n",
            "OrderedDict([('weights', tensor([0.4243])), ('bias', tensor([0.2908]))])\n",
            "epoch: 500 | loss: 0.056416451930999756 | test_loss: 0.1508382260799408\n",
            "OrderedDict([('weights', tensor([0.4268])), ('bias', tensor([0.2923]))])\n",
            "epoch: 500 | loss: 0.055546294897794724 | test_loss: 0.14707760512828827\n",
            "OrderedDict([('weights', tensor([0.4293])), ('bias', tensor([0.2938]))])\n",
            "epoch: 500 | loss: 0.05476539582014084 | test_loss: 0.14396831393241882\n",
            "OrderedDict([('weights', tensor([0.4317])), ('bias', tensor([0.2948]))])\n",
            "epoch: 500 | loss: 0.05410371348261833 | test_loss: 0.14085902273654938\n",
            "OrderedDict([('weights', tensor([0.4341])), ('bias', tensor([0.2958]))])\n",
            "epoch: 500 | loss: 0.05344594269990921 | test_loss: 0.13840994238853455\n",
            "OrderedDict([('weights', tensor([0.4363])), ('bias', tensor([0.2963]))])\n",
            "epoch: 500 | loss: 0.05294134095311165 | test_loss: 0.13596084713935852\n",
            "OrderedDict([('weights', tensor([0.4385])), ('bias', tensor([0.2968]))])\n",
            "epoch: 500 | loss: 0.052436720579862595 | test_loss: 0.13351178169250488\n",
            "OrderedDict([('weights', tensor([0.4407])), ('bias', tensor([0.2973]))])\n",
            "epoch: 500 | loss: 0.051932115107774734 | test_loss: 0.13106267154216766\n",
            "OrderedDict([('weights', tensor([0.4428])), ('bias', tensor([0.2978]))])\n",
            "epoch: 500 | loss: 0.051431942731142044 | test_loss: 0.12928266823291779\n",
            "OrderedDict([('weights', tensor([0.4448])), ('bias', tensor([0.2978]))])\n",
            "epoch: 500 | loss: 0.051031939685344696 | test_loss: 0.1275026798248291\n",
            "OrderedDict([('weights', tensor([0.4468])), ('bias', tensor([0.2978]))])\n",
            "epoch: 500 | loss: 0.050631940364837646 | test_loss: 0.12572267651557922\n",
            "OrderedDict([('weights', tensor([0.4488])), ('bias', tensor([0.2978]))])\n",
            "epoch: 500 | loss: 0.0502319410443306 | test_loss: 0.12394265830516815\n",
            "OrderedDict([('weights', tensor([0.4508])), ('bias', tensor([0.2978]))])\n",
            "epoch: 500 | loss: 0.04983193799853325 | test_loss: 0.12216266244649887\n",
            "OrderedDict([('weights', tensor([0.4528])), ('bias', tensor([0.2978]))])\n",
            "epoch: 500 | loss: 0.0494319424033165 | test_loss: 0.12038266658782959\n",
            "OrderedDict([('weights', tensor([0.4548])), ('bias', tensor([0.2978]))])\n",
            "epoch: 500 | loss: 0.04903193563222885 | test_loss: 0.11860265582799911\n",
            "OrderedDict([('weights', tensor([0.4568])), ('bias', tensor([0.2978]))])\n",
            "epoch: 500 | loss: 0.04865921288728714 | test_loss: 0.11750064045190811\n",
            "OrderedDict([('weights', tensor([0.4586])), ('bias', tensor([0.2973]))])\n",
            "epoch: 500 | loss: 0.04831021651625633 | test_loss: 0.11639866977930069\n",
            "OrderedDict([('weights', tensor([0.4604])), ('bias', tensor([0.2968]))])\n",
            "epoch: 500 | loss: 0.04796121269464493 | test_loss: 0.11529663950204849\n",
            "OrderedDict([('weights', tensor([0.4622])), ('bias', tensor([0.2963]))])\n",
            "epoch: 500 | loss: 0.04761221259832382 | test_loss: 0.1141946092247963\n",
            "OrderedDict([('weights', tensor([0.4640])), ('bias', tensor([0.2958]))])\n",
            "epoch: 500 | loss: 0.047263212502002716 | test_loss: 0.11309263855218887\n",
            "OrderedDict([('weights', tensor([0.4658])), ('bias', tensor([0.2953]))])\n",
            "epoch: 500 | loss: 0.04691421240568161 | test_loss: 0.11199061572551727\n",
            "OrderedDict([('weights', tensor([0.4676])), ('bias', tensor([0.2948]))])\n",
            "epoch: 500 | loss: 0.046565212309360504 | test_loss: 0.11088857799768448\n",
            "OrderedDict([('weights', tensor([0.4694])), ('bias', tensor([0.2943]))])\n",
            "epoch: 500 | loss: 0.0462162159383297 | test_loss: 0.10978660732507706\n",
            "OrderedDict([('weights', tensor([0.4712])), ('bias', tensor([0.2938]))])\n",
            "epoch: 500 | loss: 0.04586721211671829 | test_loss: 0.10868461430072784\n",
            "OrderedDict([('weights', tensor([0.4730])), ('bias', tensor([0.2933]))])\n",
            "epoch: 500 | loss: 0.04551822692155838 | test_loss: 0.10758256912231445\n",
            "OrderedDict([('weights', tensor([0.4748])), ('bias', tensor([0.2928]))])\n",
            "epoch: 500 | loss: 0.04516920447349548 | test_loss: 0.10648057609796524\n",
            "OrderedDict([('weights', tensor([0.4766])), ('bias', tensor([0.2923]))])\n",
            "epoch: 500 | loss: 0.04482021927833557 | test_loss: 0.10537858307361603\n",
            "OrderedDict([('weights', tensor([0.4784])), ('bias', tensor([0.2918]))])\n",
            "epoch: 500 | loss: 0.04447121173143387 | test_loss: 0.10427656024694443\n",
            "OrderedDict([('weights', tensor([0.4802])), ('bias', tensor([0.2913]))])\n",
            "epoch: 500 | loss: 0.04412221536040306 | test_loss: 0.10317454487085342\n",
            "OrderedDict([('weights', tensor([0.4820])), ('bias', tensor([0.2908]))])\n",
            "epoch: 500 | loss: 0.043773215264081955 | test_loss: 0.10207255184650421\n",
            "OrderedDict([('weights', tensor([0.4838])), ('bias', tensor([0.2903]))])\n",
            "epoch: 500 | loss: 0.04342421144247055 | test_loss: 0.1009705439209938\n",
            "OrderedDict([('weights', tensor([0.4856])), ('bias', tensor([0.2898]))])\n",
            "epoch: 500 | loss: 0.04307522252202034 | test_loss: 0.0998685285449028\n",
            "OrderedDict([('weights', tensor([0.4874])), ('bias', tensor([0.2893]))])\n",
            "epoch: 500 | loss: 0.04272794350981712 | test_loss: 0.099453404545784\n",
            "OrderedDict([('weights', tensor([0.4890])), ('bias', tensor([0.2883]))])\n",
            "epoch: 500 | loss: 0.042390018701553345 | test_loss: 0.09835139662027359\n",
            "OrderedDict([('weights', tensor([0.4908])), ('bias', tensor([0.2878]))])\n",
            "epoch: 500 | loss: 0.04204101487994194 | test_loss: 0.09724939614534378\n",
            "OrderedDict([('weights', tensor([0.4926])), ('bias', tensor([0.2873]))])\n",
            "epoch: 500 | loss: 0.04170272871851921 | test_loss: 0.09683426469564438\n",
            "OrderedDict([('weights', tensor([0.4942])), ('bias', tensor([0.2863]))])\n",
            "epoch: 500 | loss: 0.041355814784765244 | test_loss: 0.09573226422071457\n",
            "OrderedDict([('weights', tensor([0.4960])), ('bias', tensor([0.2858]))])\n",
            "epoch: 500 | loss: 0.041013725101947784 | test_loss: 0.09531714022159576\n",
            "OrderedDict([('weights', tensor([0.4976])), ('bias', tensor([0.2848]))])\n",
            "epoch: 500 | loss: 0.04067061096429825 | test_loss: 0.09421513974666595\n",
            "OrderedDict([('weights', tensor([0.4994])), ('bias', tensor([0.2843]))])\n",
            "epoch: 500 | loss: 0.04032471030950546 | test_loss: 0.09380003064870834\n",
            "OrderedDict([('weights', tensor([0.5010])), ('bias', tensor([0.2833]))])\n",
            "epoch: 500 | loss: 0.03998541831970215 | test_loss: 0.09269803017377853\n",
            "OrderedDict([('weights', tensor([0.5028])), ('bias', tensor([0.2828]))])\n",
            "epoch: 500 | loss: 0.039636410772800446 | test_loss: 0.09159601479768753\n",
            "OrderedDict([('weights', tensor([0.5046])), ('bias', tensor([0.2823]))])\n",
            "epoch: 500 | loss: 0.039299506694078445 | test_loss: 0.09118089824914932\n",
            "OrderedDict([('weights', tensor([0.5062])), ('bias', tensor([0.2813]))])\n",
            "epoch: 500 | loss: 0.03895121067762375 | test_loss: 0.09007888287305832\n",
            "OrderedDict([('weights', tensor([0.5080])), ('bias', tensor([0.2808]))])\n",
            "epoch: 500 | loss: 0.03861049935221672 | test_loss: 0.08966375887393951\n",
            "OrderedDict([('weights', tensor([0.5096])), ('bias', tensor([0.2798]))])\n",
            "epoch: 500 | loss: 0.03826601430773735 | test_loss: 0.0885617583990097\n",
            "OrderedDict([('weights', tensor([0.5114])), ('bias', tensor([0.2793]))])\n",
            "epoch: 500 | loss: 0.0379214882850647 | test_loss: 0.0881466343998909\n",
            "OrderedDict([('weights', tensor([0.5130])), ('bias', tensor([0.2783]))])\n",
            "epoch: 500 | loss: 0.037580810487270355 | test_loss: 0.0870446190237999\n",
            "OrderedDict([('weights', tensor([0.5148])), ('bias', tensor([0.2778]))])\n",
            "epoch: 500 | loss: 0.037232473492622375 | test_loss: 0.08662950992584229\n",
            "OrderedDict([('weights', tensor([0.5164])), ('bias', tensor([0.2768]))])\n",
            "epoch: 500 | loss: 0.03689561039209366 | test_loss: 0.08552749454975128\n",
            "OrderedDict([('weights', tensor([0.5182])), ('bias', tensor([0.2763]))])\n",
            "epoch: 500 | loss: 0.03654661402106285 | test_loss: 0.08442547917366028\n",
            "OrderedDict([('weights', tensor([0.5200])), ('bias', tensor([0.2758]))])\n",
            "epoch: 500 | loss: 0.03620726615190506 | test_loss: 0.08401035517454147\n",
            "OrderedDict([('weights', tensor([0.5216])), ('bias', tensor([0.2748]))])\n",
            "epoch: 500 | loss: 0.035861410200595856 | test_loss: 0.08290835469961166\n",
            "OrderedDict([('weights', tensor([0.5234])), ('bias', tensor([0.2743]))])\n",
            "epoch: 500 | loss: 0.03551825135946274 | test_loss: 0.08249323070049286\n",
            "OrderedDict([('weights', tensor([0.5249])), ('bias', tensor([0.2733]))])\n",
            "epoch: 500 | loss: 0.03517621010541916 | test_loss: 0.08139122277498245\n",
            "OrderedDict([('weights', tensor([0.5267])), ('bias', tensor([0.2728]))])\n",
            "epoch: 500 | loss: 0.03482924401760101 | test_loss: 0.08097609877586365\n",
            "OrderedDict([('weights', tensor([0.5283])), ('bias', tensor([0.2718]))])\n",
            "epoch: 500 | loss: 0.03449101001024246 | test_loss: 0.07987409085035324\n",
            "OrderedDict([('weights', tensor([0.5301])), ('bias', tensor([0.2713]))])\n",
            "epoch: 500 | loss: 0.034142009913921356 | test_loss: 0.07877208292484283\n",
            "OrderedDict([('weights', tensor([0.5319])), ('bias', tensor([0.2708]))])\n",
            "epoch: 500 | loss: 0.0338040292263031 | test_loss: 0.07835695147514343\n",
            "OrderedDict([('weights', tensor([0.5335])), ('bias', tensor([0.2698]))])\n",
            "epoch: 500 | loss: 0.03345680609345436 | test_loss: 0.07725495845079422\n",
            "OrderedDict([('weights', tensor([0.5353])), ('bias', tensor([0.2693]))])\n",
            "epoch: 500 | loss: 0.033115021884441376 | test_loss: 0.07683982700109482\n",
            "OrderedDict([('weights', tensor([0.5369])), ('bias', tensor([0.2683]))])\n",
            "epoch: 500 | loss: 0.032771602272987366 | test_loss: 0.07573782652616501\n",
            "OrderedDict([('weights', tensor([0.5387])), ('bias', tensor([0.2678]))])\n",
            "epoch: 500 | loss: 0.032426007091999054 | test_loss: 0.0753226950764656\n",
            "OrderedDict([('weights', tensor([0.5403])), ('bias', tensor([0.2668]))])\n",
            "epoch: 500 | loss: 0.03208640217781067 | test_loss: 0.0742206871509552\n",
            "OrderedDict([('weights', tensor([0.5421])), ('bias', tensor([0.2663]))])\n",
            "epoch: 500 | loss: 0.031737398356199265 | test_loss: 0.07311869412660599\n",
            "OrderedDict([('weights', tensor([0.5439])), ('bias', tensor([0.2658]))])\n",
            "epoch: 500 | loss: 0.031400807201862335 | test_loss: 0.07270355522632599\n",
            "OrderedDict([('weights', tensor([0.5455])), ('bias', tensor([0.2648]))])\n",
            "epoch: 500 | loss: 0.03105219639837742 | test_loss: 0.07160154730081558\n",
            "OrderedDict([('weights', tensor([0.5473])), ('bias', tensor([0.2643]))])\n",
            "epoch: 500 | loss: 0.030711794272065163 | test_loss: 0.07118643075227737\n",
            "OrderedDict([('weights', tensor([0.5489])), ('bias', tensor([0.2633]))])\n",
            "epoch: 500 | loss: 0.030366996303200722 | test_loss: 0.07008442282676697\n",
            "OrderedDict([('weights', tensor([0.5507])), ('bias', tensor([0.2628]))])\n",
            "epoch: 500 | loss: 0.03002278134226799 | test_loss: 0.06966929882764816\n",
            "OrderedDict([('weights', tensor([0.5523])), ('bias', tensor([0.2618]))])\n",
            "epoch: 500 | loss: 0.029681792482733727 | test_loss: 0.06856729090213776\n",
            "OrderedDict([('weights', tensor([0.5541])), ('bias', tensor([0.2613]))])\n",
            "epoch: 500 | loss: 0.029333770275115967 | test_loss: 0.06815215945243835\n",
            "OrderedDict([('weights', tensor([0.5557])), ('bias', tensor([0.2603]))])\n",
            "epoch: 500 | loss: 0.02899659238755703 | test_loss: 0.06705016642808914\n",
            "OrderedDict([('weights', tensor([0.5575])), ('bias', tensor([0.2598]))])\n",
            "epoch: 500 | loss: 0.028647596016526222 | test_loss: 0.06594815105199814\n",
            "OrderedDict([('weights', tensor([0.5593])), ('bias', tensor([0.2593]))])\n",
            "epoch: 500 | loss: 0.028308561071753502 | test_loss: 0.06553301960229874\n",
            "OrderedDict([('weights', tensor([0.5609])), ('bias', tensor([0.2583]))])\n",
            "epoch: 500 | loss: 0.027962392196059227 | test_loss: 0.06443102657794952\n",
            "OrderedDict([('weights', tensor([0.5627])), ('bias', tensor([0.2578]))])\n",
            "epoch: 500 | loss: 0.027619555592536926 | test_loss: 0.06401589512825012\n",
            "OrderedDict([('weights', tensor([0.5642])), ('bias', tensor([0.2568]))])\n",
            "epoch: 500 | loss: 0.02727719582617283 | test_loss: 0.06291387975215912\n",
            "OrderedDict([('weights', tensor([0.5660])), ('bias', tensor([0.2563]))])\n",
            "epoch: 500 | loss: 0.026930544525384903 | test_loss: 0.06249876692891121\n",
            "OrderedDict([('weights', tensor([0.5676])), ('bias', tensor([0.2553]))])\n",
            "epoch: 500 | loss: 0.026591992005705833 | test_loss: 0.061396755278110504\n",
            "OrderedDict([('weights', tensor([0.5694])), ('bias', tensor([0.2548]))])\n",
            "epoch: 500 | loss: 0.026242990046739578 | test_loss: 0.0602947473526001\n",
            "OrderedDict([('weights', tensor([0.5712])), ('bias', tensor([0.2543]))])\n",
            "epoch: 500 | loss: 0.025905335322022438 | test_loss: 0.05987962335348129\n",
            "OrderedDict([('weights', tensor([0.5728])), ('bias', tensor([0.2533]))])\n",
            "epoch: 500 | loss: 0.025557786226272583 | test_loss: 0.05877761170268059\n",
            "OrderedDict([('weights', tensor([0.5746])), ('bias', tensor([0.2528]))])\n",
            "epoch: 500 | loss: 0.025216322392225266 | test_loss: 0.05836250260472298\n",
            "OrderedDict([('weights', tensor([0.5762])), ('bias', tensor([0.2518]))])\n",
            "epoch: 500 | loss: 0.024872589856386185 | test_loss: 0.05726049095392227\n",
            "OrderedDict([('weights', tensor([0.5780])), ('bias', tensor([0.2513]))])\n",
            "epoch: 500 | loss: 0.02452731318771839 | test_loss: 0.05684535577893257\n",
            "OrderedDict([('weights', tensor([0.5796])), ('bias', tensor([0.2503]))])\n",
            "epoch: 500 | loss: 0.02418738603591919 | test_loss: 0.055743347853422165\n",
            "OrderedDict([('weights', tensor([0.5814])), ('bias', tensor([0.2498]))])\n",
            "epoch: 500 | loss: 0.023838389664888382 | test_loss: 0.05464132875204086\n",
            "OrderedDict([('weights', tensor([0.5832])), ('bias', tensor([0.2493]))])\n",
            "epoch: 500 | loss: 0.023502102121710777 | test_loss: 0.05422622710466385\n",
            "OrderedDict([('weights', tensor([0.5848])), ('bias', tensor([0.2483]))])\n",
            "epoch: 500 | loss: 0.023153185844421387 | test_loss: 0.05312423035502434\n",
            "OrderedDict([('weights', tensor([0.5866])), ('bias', tensor([0.2478]))])\n",
            "epoch: 500 | loss: 0.022813092917203903 | test_loss: 0.05270911008119583\n",
            "OrderedDict([('weights', tensor([0.5882])), ('bias', tensor([0.2468]))])\n",
            "epoch: 500 | loss: 0.022467980161309242 | test_loss: 0.05160711333155632\n",
            "OrderedDict([('weights', tensor([0.5900])), ('bias', tensor([0.2463]))])\n",
            "epoch: 500 | loss: 0.02212408557534218 | test_loss: 0.05119200795888901\n",
            "OrderedDict([('weights', tensor([0.5916])), ('bias', tensor([0.2453]))])\n",
            "epoch: 500 | loss: 0.021782780066132545 | test_loss: 0.05008997768163681\n",
            "OrderedDict([('weights', tensor([0.5934])), ('bias', tensor([0.2448]))])\n",
            "epoch: 500 | loss: 0.021435070782899857 | test_loss: 0.049674876034259796\n",
            "OrderedDict([('weights', tensor([0.5950])), ('bias', tensor([0.2438]))])\n",
            "epoch: 500 | loss: 0.0210975781083107 | test_loss: 0.04857286810874939\n",
            "OrderedDict([('weights', tensor([0.5968])), ('bias', tensor([0.2433]))])\n",
            "epoch: 500 | loss: 0.020748578011989594 | test_loss: 0.04747086763381958\n",
            "OrderedDict([('weights', tensor([0.5986])), ('bias', tensor([0.2428]))])\n",
            "epoch: 500 | loss: 0.020409855991601944 | test_loss: 0.04705576226115227\n",
            "OrderedDict([('weights', tensor([0.6002])), ('bias', tensor([0.2418]))])\n",
            "epoch: 500 | loss: 0.0200633741915226 | test_loss: 0.04595373198390007\n",
            "OrderedDict([('weights', tensor([0.6020])), ('bias', tensor([0.2413]))])\n",
            "epoch: 500 | loss: 0.01972084306180477 | test_loss: 0.04553861543536186\n",
            "OrderedDict([('weights', tensor([0.6035])), ('bias', tensor([0.2403]))])\n",
            "epoch: 500 | loss: 0.019378170371055603 | test_loss: 0.04443662241101265\n",
            "OrderedDict([('weights', tensor([0.6053])), ('bias', tensor([0.2398]))])\n",
            "epoch: 500 | loss: 0.019031833857297897 | test_loss: 0.04402150958776474\n",
            "OrderedDict([('weights', tensor([0.6069])), ('bias', tensor([0.2388]))])\n",
            "epoch: 500 | loss: 0.018692970275878906 | test_loss: 0.04291951656341553\n",
            "OrderedDict([('weights', tensor([0.6087])), ('bias', tensor([0.2383]))])\n",
            "epoch: 500 | loss: 0.0183439701795578 | test_loss: 0.04181748628616333\n",
            "OrderedDict([('weights', tensor([0.6105])), ('bias', tensor([0.2378]))])\n",
            "epoch: 500 | loss: 0.018006620928645134 | test_loss: 0.04140239208936691\n",
            "OrderedDict([('weights', tensor([0.6121])), ('bias', tensor([0.2368]))])\n",
            "epoch: 500 | loss: 0.017658770084381104 | test_loss: 0.040300387889146805\n",
            "OrderedDict([('weights', tensor([0.6139])), ('bias', tensor([0.2363]))])\n",
            "epoch: 500 | loss: 0.01731760986149311 | test_loss: 0.039885263890028\n",
            "OrderedDict([('weights', tensor([0.6155])), ('bias', tensor([0.2353]))])\n",
            "epoch: 500 | loss: 0.01697356440126896 | test_loss: 0.03878328204154968\n",
            "OrderedDict([('weights', tensor([0.6173])), ('bias', tensor([0.2348]))])\n",
            "epoch: 500 | loss: 0.016628596931695938 | test_loss: 0.038368165493011475\n",
            "OrderedDict([('weights', tensor([0.6189])), ('bias', tensor([0.2338]))])\n",
            "epoch: 500 | loss: 0.016288358718156815 | test_loss: 0.037266142666339874\n",
            "OrderedDict([('weights', tensor([0.6207])), ('bias', tensor([0.2333]))])\n",
            "epoch: 500 | loss: 0.015939587727189064 | test_loss: 0.036851055920124054\n",
            "OrderedDict([('weights', tensor([0.6223])), ('bias', tensor([0.2323]))])\n",
            "epoch: 500 | loss: 0.015603160485625267 | test_loss: 0.03574901819229126\n",
            "OrderedDict([('weights', tensor([0.6241])), ('bias', tensor([0.2318]))])\n",
            "epoch: 500 | loss: 0.015254160389304161 | test_loss: 0.03464704006910324\n",
            "OrderedDict([('weights', tensor([0.6259])), ('bias', tensor([0.2313]))])\n",
            "epoch: 500 | loss: 0.014914372935891151 | test_loss: 0.034231919795274734\n",
            "OrderedDict([('weights', tensor([0.6275])), ('bias', tensor([0.2303]))])\n",
            "epoch: 500 | loss: 0.014568962156772614 | test_loss: 0.03312991186976433\n",
            "OrderedDict([('weights', tensor([0.6293])), ('bias', tensor([0.2298]))])\n",
            "epoch: 500 | loss: 0.014225363731384277 | test_loss: 0.03271481394767761\n",
            "OrderedDict([('weights', tensor([0.6309])), ('bias', tensor([0.2288]))])\n",
            "epoch: 500 | loss: 0.013883756473660469 | test_loss: 0.03161277621984482\n",
            "OrderedDict([('weights', tensor([0.6327])), ('bias', tensor([0.2283]))])\n",
            "epoch: 500 | loss: 0.01353635173290968 | test_loss: 0.031197696924209595\n",
            "OrderedDict([('weights', tensor([0.6343])), ('bias', tensor([0.2273]))])\n",
            "epoch: 500 | loss: 0.01319854985922575 | test_loss: 0.030095672234892845\n",
            "OrderedDict([('weights', tensor([0.6361])), ('bias', tensor([0.2268]))])\n",
            "epoch: 500 | loss: 0.012849554419517517 | test_loss: 0.02899366058409214\n",
            "OrderedDict([('weights', tensor([0.6379])), ('bias', tensor([0.2263]))])\n",
            "epoch: 500 | loss: 0.01251113973557949 | test_loss: 0.02857857383787632\n",
            "OrderedDict([('weights', tensor([0.6395])), ('bias', tensor([0.2253]))])\n",
            "epoch: 500 | loss: 0.012164351530373096 | test_loss: 0.027476537972688675\n",
            "OrderedDict([('weights', tensor([0.6413])), ('bias', tensor([0.2248]))])\n",
            "epoch: 500 | loss: 0.011822127737104893 | test_loss: 0.027061432600021362\n",
            "OrderedDict([('weights', tensor([0.6428])), ('bias', tensor([0.2238]))])\n",
            "epoch: 500 | loss: 0.0114791514351964 | test_loss: 0.025959437713027\n",
            "OrderedDict([('weights', tensor([0.6446])), ('bias', tensor([0.2233]))])\n",
            "epoch: 500 | loss: 0.011133113875985146 | test_loss: 0.025544309988617897\n",
            "OrderedDict([('weights', tensor([0.6462])), ('bias', tensor([0.2223]))])\n",
            "epoch: 500 | loss: 0.010793947614729404 | test_loss: 0.024442333728075027\n",
            "OrderedDict([('weights', tensor([0.6480])), ('bias', tensor([0.2218]))])\n",
            "epoch: 500 | loss: 0.010444948449730873 | test_loss: 0.023340290412306786\n",
            "OrderedDict([('weights', tensor([0.6498])), ('bias', tensor([0.2213]))])\n",
            "epoch: 500 | loss: 0.01010790653526783 | test_loss: 0.02292521670460701\n",
            "OrderedDict([('weights', tensor([0.6514])), ('bias', tensor([0.2203]))])\n",
            "epoch: 500 | loss: 0.009759746491909027 | test_loss: 0.021823186427354813\n",
            "OrderedDict([('weights', tensor([0.6532])), ('bias', tensor([0.2198]))])\n",
            "epoch: 500 | loss: 0.009418891742825508 | test_loss: 0.021408069878816605\n",
            "OrderedDict([('weights', tensor([0.6548])), ('bias', tensor([0.2188]))])\n",
            "epoch: 500 | loss: 0.009074544534087181 | test_loss: 0.020306086167693138\n",
            "OrderedDict([('weights', tensor([0.6566])), ('bias', tensor([0.2183]))])\n",
            "epoch: 500 | loss: 0.008729880675673485 | test_loss: 0.01989096961915493\n",
            "OrderedDict([('weights', tensor([0.6582])), ('bias', tensor([0.2173]))])\n",
            "epoch: 500 | loss: 0.008389344438910484 | test_loss: 0.018788963556289673\n",
            "OrderedDict([('weights', tensor([0.6600])), ('bias', tensor([0.2168]))])\n",
            "epoch: 500 | loss: 0.008040872402489185 | test_loss: 0.018373865634202957\n",
            "OrderedDict([('weights', tensor([0.6616])), ('bias', tensor([0.2158]))])\n",
            "epoch: 500 | loss: 0.0077041396871209145 | test_loss: 0.017271822318434715\n",
            "OrderedDict([('weights', tensor([0.6634])), ('bias', tensor([0.2153]))])\n",
            "epoch: 500 | loss: 0.007355140056461096 | test_loss: 0.016169846057891846\n",
            "OrderedDict([('weights', tensor([0.6652])), ('bias', tensor([0.2148]))])\n",
            "epoch: 500 | loss: 0.00701566506177187 | test_loss: 0.015754718333482742\n",
            "OrderedDict([('weights', tensor([0.6668])), ('bias', tensor([0.2138]))])\n",
            "epoch: 500 | loss: 0.0066699376329779625 | test_loss: 0.01465272344648838\n",
            "OrderedDict([('weights', tensor([0.6686])), ('bias', tensor([0.2133]))])\n",
            "epoch: 500 | loss: 0.006326645612716675 | test_loss: 0.014237618073821068\n",
            "OrderedDict([('weights', tensor([0.6702])), ('bias', tensor([0.2123]))])\n",
            "epoch: 500 | loss: 0.0059847356751561165 | test_loss: 0.013135582208633423\n",
            "OrderedDict([('weights', tensor([0.6720])), ('bias', tensor([0.2118]))])\n",
            "epoch: 500 | loss: 0.005637629888951778 | test_loss: 0.012720471248030663\n",
            "OrderedDict([('weights', tensor([0.6736])), ('bias', tensor([0.2108]))])\n",
            "epoch: 500 | loss: 0.005299530923366547 | test_loss: 0.011618482880294323\n",
            "OrderedDict([('weights', tensor([0.6754])), ('bias', tensor([0.2103]))])\n",
            "epoch: 500 | loss: 0.004950535483658314 | test_loss: 0.010516482405364513\n",
            "OrderedDict([('weights', tensor([0.6772])), ('bias', tensor([0.2098]))])\n",
            "epoch: 500 | loss: 0.004612422548234463 | test_loss: 0.010101377964019775\n",
            "OrderedDict([('weights', tensor([0.6788])), ('bias', tensor([0.2088]))])\n",
            "epoch: 500 | loss: 0.004265336319804192 | test_loss: 0.008999347686767578\n",
            "OrderedDict([('weights', tensor([0.6806])), ('bias', tensor([0.2083]))])\n",
            "epoch: 500 | loss: 0.003923413809388876 | test_loss: 0.00858424324542284\n",
            "OrderedDict([('weights', tensor([0.6821])), ('bias', tensor([0.2073]))])\n",
            "epoch: 500 | loss: 0.0035801276098936796 | test_loss: 0.0074822427704930305\n",
            "OrderedDict([('weights', tensor([0.6839])), ('bias', tensor([0.2068]))])\n",
            "epoch: 500 | loss: 0.0032343983184546232 | test_loss: 0.0070671141147613525\n",
            "OrderedDict([('weights', tensor([0.6855])), ('bias', tensor([0.2058]))])\n",
            "epoch: 500 | loss: 0.0028949205297976732 | test_loss: 0.005965143442153931\n",
            "OrderedDict([('weights', tensor([0.6873])), ('bias', tensor([0.2053]))])\n",
            "epoch: 500 | loss: 0.002545926021412015 | test_loss: 0.004863113164901733\n",
            "OrderedDict([('weights', tensor([0.6891])), ('bias', tensor([0.2048]))])\n",
            "epoch: 500 | loss: 0.0022105842363089323 | test_loss: 0.005143803544342518\n",
            "OrderedDict([('weights', tensor([0.6905])), ('bias', tensor([0.2033]))])\n",
            "epoch: 500 | loss: 0.0019202273106202483 | test_loss: 0.002034521196037531\n",
            "OrderedDict([('weights', tensor([0.6929])), ('bias', tensor([0.2043]))])\n",
            "epoch: 500 | loss: 0.0018359646201133728 | test_loss: 0.008202021941542625\n",
            "OrderedDict([('weights', tensor([0.6921])), ('bias', tensor([0.1988]))])\n",
            "epoch: 500 | loss: 0.004262552596628666 | test_loss: 0.005269003100693226\n",
            "OrderedDict([('weights', tensor([0.6960])), ('bias', tensor([0.2088]))])\n",
            "epoch: 500 | loss: 0.007258452475070953 | test_loss: 0.008202021941542625\n",
            "OrderedDict([('weights', tensor([0.6921])), ('bias', tensor([0.1988]))])\n",
            "epoch: 500 | loss: 0.004262552596628666 | test_loss: 0.005269003100693226\n",
            "OrderedDict([('weights', tensor([0.6960])), ('bias', tensor([0.2088]))])\n",
            "epoch: 500 | loss: 0.007258452475070953 | test_loss: 0.008202021941542625\n",
            "OrderedDict([('weights', tensor([0.6921])), ('bias', tensor([0.1988]))])\n",
            "epoch: 500 | loss: 0.004262552596628666 | test_loss: 0.005269003100693226\n",
            "OrderedDict([('weights', tensor([0.6960])), ('bias', tensor([0.2088]))])\n",
            "epoch: 500 | loss: 0.007258452475070953 | test_loss: 0.008202021941542625\n",
            "OrderedDict([('weights', tensor([0.6921])), ('bias', tensor([0.1988]))])\n",
            "epoch: 500 | loss: 0.004262552596628666 | test_loss: 0.005269003100693226\n",
            "OrderedDict([('weights', tensor([0.6960])), ('bias', tensor([0.2088]))])\n",
            "epoch: 500 | loss: 0.007258452475070953 | test_loss: 0.008202021941542625\n",
            "OrderedDict([('weights', tensor([0.6921])), ('bias', tensor([0.1988]))])\n",
            "epoch: 500 | loss: 0.004262552596628666 | test_loss: 0.005269003100693226\n",
            "OrderedDict([('weights', tensor([0.6960])), ('bias', tensor([0.2088]))])\n",
            "epoch: 500 | loss: 0.007258452475070953 | test_loss: 0.008202021941542625\n",
            "OrderedDict([('weights', tensor([0.6921])), ('bias', tensor([0.1988]))])\n",
            "epoch: 500 | loss: 0.004262552596628666 | test_loss: 0.005269003100693226\n",
            "OrderedDict([('weights', tensor([0.6960])), ('bias', tensor([0.2088]))])\n",
            "epoch: 500 | loss: 0.007258452475070953 | test_loss: 0.008202021941542625\n",
            "OrderedDict([('weights', tensor([0.6921])), ('bias', tensor([0.1988]))])\n",
            "epoch: 500 | loss: 0.004262552596628666 | test_loss: 0.005269003100693226\n",
            "OrderedDict([('weights', tensor([0.6960])), ('bias', tensor([0.2088]))])\n",
            "epoch: 500 | loss: 0.007258452475070953 | test_loss: 0.008202021941542625\n",
            "OrderedDict([('weights', tensor([0.6921])), ('bias', tensor([0.1988]))])\n",
            "epoch: 500 | loss: 0.004262552596628666 | test_loss: 0.005269003100693226\n",
            "OrderedDict([('weights', tensor([0.6960])), ('bias', tensor([0.2088]))])\n",
            "epoch: 500 | loss: 0.007258452475070953 | test_loss: 0.008202021941542625\n",
            "OrderedDict([('weights', tensor([0.6921])), ('bias', tensor([0.1988]))])\n",
            "epoch: 500 | loss: 0.004262552596628666 | test_loss: 0.005269003100693226\n",
            "OrderedDict([('weights', tensor([0.6960])), ('bias', tensor([0.2088]))])\n",
            "epoch: 500 | loss: 0.007258452475070953 | test_loss: 0.008202021941542625\n",
            "OrderedDict([('weights', tensor([0.6921])), ('bias', tensor([0.1988]))])\n",
            "epoch: 500 | loss: 0.004262552596628666 | test_loss: 0.005269003100693226\n",
            "OrderedDict([('weights', tensor([0.6960])), ('bias', tensor([0.2088]))])\n",
            "epoch: 500 | loss: 0.007258452475070953 | test_loss: 0.008202021941542625\n",
            "OrderedDict([('weights', tensor([0.6921])), ('bias', tensor([0.1988]))])\n",
            "epoch: 500 | loss: 0.004262552596628666 | test_loss: 0.005269003100693226\n",
            "OrderedDict([('weights', tensor([0.6960])), ('bias', tensor([0.2088]))])\n",
            "epoch: 500 | loss: 0.007258452475070953 | test_loss: 0.008202021941542625\n",
            "OrderedDict([('weights', tensor([0.6921])), ('bias', tensor([0.1988]))])\n",
            "epoch: 500 | loss: 0.004262552596628666 | test_loss: 0.005269003100693226\n",
            "OrderedDict([('weights', tensor([0.6960])), ('bias', tensor([0.2088]))])\n",
            "epoch: 500 | loss: 0.007258452475070953 | test_loss: 0.008202021941542625\n",
            "OrderedDict([('weights', tensor([0.6921])), ('bias', tensor([0.1988]))])\n",
            "epoch: 500 | loss: 0.004262552596628666 | test_loss: 0.005269003100693226\n",
            "OrderedDict([('weights', tensor([0.6960])), ('bias', tensor([0.2088]))])\n",
            "epoch: 500 | loss: 0.007258452475070953 | test_loss: 0.008202021941542625\n",
            "OrderedDict([('weights', tensor([0.6921])), ('bias', tensor([0.1988]))])\n",
            "epoch: 500 | loss: 0.004262552596628666 | test_loss: 0.005269003100693226\n",
            "OrderedDict([('weights', tensor([0.6960])), ('bias', tensor([0.2088]))])\n",
            "epoch: 500 | loss: 0.007258452475070953 | test_loss: 0.008202021941542625\n",
            "OrderedDict([('weights', tensor([0.6921])), ('bias', tensor([0.1988]))])\n",
            "epoch: 500 | loss: 0.004262552596628666 | test_loss: 0.005269003100693226\n",
            "OrderedDict([('weights', tensor([0.6960])), ('bias', tensor([0.2088]))])\n",
            "epoch: 500 | loss: 0.007258452475070953 | test_loss: 0.008202021941542625\n",
            "OrderedDict([('weights', tensor([0.6921])), ('bias', tensor([0.1988]))])\n",
            "epoch: 500 | loss: 0.004262552596628666 | test_loss: 0.005269003100693226\n",
            "OrderedDict([('weights', tensor([0.6960])), ('bias', tensor([0.2088]))])\n",
            "epoch: 500 | loss: 0.007258452475070953 | test_loss: 0.008202021941542625\n",
            "OrderedDict([('weights', tensor([0.6921])), ('bias', tensor([0.1988]))])\n",
            "epoch: 500 | loss: 0.004262552596628666 | test_loss: 0.005269003100693226\n",
            "OrderedDict([('weights', tensor([0.6960])), ('bias', tensor([0.2088]))])\n",
            "epoch: 500 | loss: 0.007258452475070953 | test_loss: 0.008202021941542625\n",
            "OrderedDict([('weights', tensor([0.6921])), ('bias', tensor([0.1988]))])\n",
            "epoch: 500 | loss: 0.004262552596628666 | test_loss: 0.005269003100693226\n",
            "OrderedDict([('weights', tensor([0.6960])), ('bias', tensor([0.2088]))])\n",
            "epoch: 500 | loss: 0.007258452475070953 | test_loss: 0.008202021941542625\n",
            "OrderedDict([('weights', tensor([0.6921])), ('bias', tensor([0.1988]))])\n",
            "epoch: 500 | loss: 0.004262552596628666 | test_loss: 0.005269003100693226\n",
            "OrderedDict([('weights', tensor([0.6960])), ('bias', tensor([0.2088]))])\n",
            "epoch: 500 | loss: 0.007258452475070953 | test_loss: 0.008202021941542625\n",
            "OrderedDict([('weights', tensor([0.6921])), ('bias', tensor([0.1988]))])\n",
            "epoch: 500 | loss: 0.004262552596628666 | test_loss: 0.005269003100693226\n",
            "OrderedDict([('weights', tensor([0.6960])), ('bias', tensor([0.2088]))])\n",
            "epoch: 500 | loss: 0.007258452475070953 | test_loss: 0.008202021941542625\n",
            "OrderedDict([('weights', tensor([0.6921])), ('bias', tensor([0.1988]))])\n",
            "epoch: 500 | loss: 0.004262552596628666 | test_loss: 0.005269003100693226\n",
            "OrderedDict([('weights', tensor([0.6960])), ('bias', tensor([0.2088]))])\n",
            "epoch: 500 | loss: 0.007258452475070953 | test_loss: 0.008202021941542625\n",
            "OrderedDict([('weights', tensor([0.6921])), ('bias', tensor([0.1988]))])\n",
            "epoch: 500 | loss: 0.004262552596628666 | test_loss: 0.005269003100693226\n",
            "OrderedDict([('weights', tensor([0.6960])), ('bias', tensor([0.2088]))])\n",
            "epoch: 500 | loss: 0.007258452475070953 | test_loss: 0.008202021941542625\n",
            "OrderedDict([('weights', tensor([0.6921])), ('bias', tensor([0.1988]))])\n",
            "epoch: 500 | loss: 0.004262552596628666 | test_loss: 0.005269003100693226\n",
            "OrderedDict([('weights', tensor([0.6960])), ('bias', tensor([0.2088]))])\n",
            "epoch: 500 | loss: 0.007258452475070953 | test_loss: 0.008202021941542625\n",
            "OrderedDict([('weights', tensor([0.6921])), ('bias', tensor([0.1988]))])\n",
            "epoch: 500 | loss: 0.004262552596628666 | test_loss: 0.005269003100693226\n",
            "OrderedDict([('weights', tensor([0.6960])), ('bias', tensor([0.2088]))])\n",
            "epoch: 500 | loss: 0.007258452475070953 | test_loss: 0.008202021941542625\n",
            "OrderedDict([('weights', tensor([0.6921])), ('bias', tensor([0.1988]))])\n",
            "epoch: 500 | loss: 0.004262552596628666 | test_loss: 0.005269003100693226\n",
            "OrderedDict([('weights', tensor([0.6960])), ('bias', tensor([0.2088]))])\n",
            "epoch: 500 | loss: 0.007258452475070953 | test_loss: 0.008202021941542625\n",
            "OrderedDict([('weights', tensor([0.6921])), ('bias', tensor([0.1988]))])\n",
            "epoch: 500 | loss: 0.004262552596628666 | test_loss: 0.005269003100693226\n",
            "OrderedDict([('weights', tensor([0.6960])), ('bias', tensor([0.2088]))])\n",
            "epoch: 500 | loss: 0.007258452475070953 | test_loss: 0.008202021941542625\n",
            "OrderedDict([('weights', tensor([0.6921])), ('bias', tensor([0.1988]))])\n",
            "epoch: 500 | loss: 0.004262552596628666 | test_loss: 0.005269003100693226\n",
            "OrderedDict([('weights', tensor([0.6960])), ('bias', tensor([0.2088]))])\n",
            "epoch: 500 | loss: 0.007258452475070953 | test_loss: 0.008202021941542625\n",
            "OrderedDict([('weights', tensor([0.6921])), ('bias', tensor([0.1988]))])\n",
            "epoch: 500 | loss: 0.004262552596628666 | test_loss: 0.005269003100693226\n",
            "OrderedDict([('weights', tensor([0.6960])), ('bias', tensor([0.2088]))])\n",
            "epoch: 500 | loss: 0.007258452475070953 | test_loss: 0.008202021941542625\n",
            "OrderedDict([('weights', tensor([0.6921])), ('bias', tensor([0.1988]))])\n",
            "epoch: 500 | loss: 0.004262552596628666 | test_loss: 0.005269003100693226\n",
            "OrderedDict([('weights', tensor([0.6960])), ('bias', tensor([0.2088]))])\n",
            "epoch: 500 | loss: 0.007258452475070953 | test_loss: 0.008202021941542625\n",
            "OrderedDict([('weights', tensor([0.6921])), ('bias', tensor([0.1988]))])\n",
            "epoch: 500 | loss: 0.004262552596628666 | test_loss: 0.005269003100693226\n",
            "OrderedDict([('weights', tensor([0.6960])), ('bias', tensor([0.2088]))])\n",
            "epoch: 500 | loss: 0.007258452475070953 | test_loss: 0.008202021941542625\n",
            "OrderedDict([('weights', tensor([0.6921])), ('bias', tensor([0.1988]))])\n",
            "epoch: 500 | loss: 0.004262552596628666 | test_loss: 0.005269003100693226\n",
            "OrderedDict([('weights', tensor([0.6960])), ('bias', tensor([0.2088]))])\n",
            "epoch: 500 | loss: 0.007258452475070953 | test_loss: 0.008202021941542625\n",
            "OrderedDict([('weights', tensor([0.6921])), ('bias', tensor([0.1988]))])\n",
            "epoch: 500 | loss: 0.004262552596628666 | test_loss: 0.005269003100693226\n",
            "OrderedDict([('weights', tensor([0.6960])), ('bias', tensor([0.2088]))])\n",
            "epoch: 500 | loss: 0.007258452475070953 | test_loss: 0.008202021941542625\n",
            "OrderedDict([('weights', tensor([0.6921])), ('bias', tensor([0.1988]))])\n",
            "epoch: 500 | loss: 0.004262552596628666 | test_loss: 0.005269003100693226\n",
            "OrderedDict([('weights', tensor([0.6960])), ('bias', tensor([0.2088]))])\n",
            "epoch: 500 | loss: 0.007258452475070953 | test_loss: 0.008202021941542625\n",
            "OrderedDict([('weights', tensor([0.6921])), ('bias', tensor([0.1988]))])\n",
            "epoch: 500 | loss: 0.004262552596628666 | test_loss: 0.005269003100693226\n",
            "OrderedDict([('weights', tensor([0.6960])), ('bias', tensor([0.2088]))])\n",
            "epoch: 500 | loss: 0.007258452475070953 | test_loss: 0.008202021941542625\n",
            "OrderedDict([('weights', tensor([0.6921])), ('bias', tensor([0.1988]))])\n",
            "epoch: 500 | loss: 0.004262552596628666 | test_loss: 0.005269003100693226\n",
            "OrderedDict([('weights', tensor([0.6960])), ('bias', tensor([0.2088]))])\n",
            "epoch: 500 | loss: 0.007258452475070953 | test_loss: 0.008202021941542625\n",
            "OrderedDict([('weights', tensor([0.6921])), ('bias', tensor([0.1988]))])\n",
            "epoch: 500 | loss: 0.004262552596628666 | test_loss: 0.005269003100693226\n",
            "OrderedDict([('weights', tensor([0.6960])), ('bias', tensor([0.2088]))])\n",
            "epoch: 500 | loss: 0.007258452475070953 | test_loss: 0.008202021941542625\n",
            "OrderedDict([('weights', tensor([0.6921])), ('bias', tensor([0.1988]))])\n",
            "epoch: 500 | loss: 0.004262552596628666 | test_loss: 0.005269003100693226\n",
            "OrderedDict([('weights', tensor([0.6960])), ('bias', tensor([0.2088]))])\n",
            "epoch: 500 | loss: 0.007258452475070953 | test_loss: 0.008202021941542625\n",
            "OrderedDict([('weights', tensor([0.6921])), ('bias', tensor([0.1988]))])\n",
            "epoch: 500 | loss: 0.004262552596628666 | test_loss: 0.005269003100693226\n",
            "OrderedDict([('weights', tensor([0.6960])), ('bias', tensor([0.2088]))])\n",
            "epoch: 500 | loss: 0.007258452475070953 | test_loss: 0.008202021941542625\n",
            "OrderedDict([('weights', tensor([0.6921])), ('bias', tensor([0.1988]))])\n",
            "epoch: 500 | loss: 0.004262552596628666 | test_loss: 0.005269003100693226\n",
            "OrderedDict([('weights', tensor([0.6960])), ('bias', tensor([0.2088]))])\n",
            "epoch: 500 | loss: 0.007258452475070953 | test_loss: 0.008202021941542625\n",
            "OrderedDict([('weights', tensor([0.6921])), ('bias', tensor([0.1988]))])\n",
            "epoch: 500 | loss: 0.004262552596628666 | test_loss: 0.005269003100693226\n",
            "OrderedDict([('weights', tensor([0.6960])), ('bias', tensor([0.2088]))])\n",
            "epoch: 500 | loss: 0.007258452475070953 | test_loss: 0.008202021941542625\n",
            "OrderedDict([('weights', tensor([0.6921])), ('bias', tensor([0.1988]))])\n",
            "epoch: 500 | loss: 0.004262552596628666 | test_loss: 0.005269003100693226\n",
            "OrderedDict([('weights', tensor([0.6960])), ('bias', tensor([0.2088]))])\n",
            "epoch: 500 | loss: 0.007258452475070953 | test_loss: 0.008202021941542625\n",
            "OrderedDict([('weights', tensor([0.6921])), ('bias', tensor([0.1988]))])\n",
            "epoch: 500 | loss: 0.004262552596628666 | test_loss: 0.005269003100693226\n",
            "OrderedDict([('weights', tensor([0.6960])), ('bias', tensor([0.2088]))])\n",
            "epoch: 500 | loss: 0.007258452475070953 | test_loss: 0.008202021941542625\n",
            "OrderedDict([('weights', tensor([0.6921])), ('bias', tensor([0.1988]))])\n",
            "epoch: 500 | loss: 0.004262552596628666 | test_loss: 0.005269003100693226\n",
            "OrderedDict([('weights', tensor([0.6960])), ('bias', tensor([0.2088]))])\n",
            "epoch: 500 | loss: 0.007258452475070953 | test_loss: 0.008202021941542625\n",
            "OrderedDict([('weights', tensor([0.6921])), ('bias', tensor([0.1988]))])\n",
            "epoch: 500 | loss: 0.004262552596628666 | test_loss: 0.005269003100693226\n",
            "OrderedDict([('weights', tensor([0.6960])), ('bias', tensor([0.2088]))])\n",
            "epoch: 500 | loss: 0.007258452475070953 | test_loss: 0.008202021941542625\n",
            "OrderedDict([('weights', tensor([0.6921])), ('bias', tensor([0.1988]))])\n",
            "epoch: 500 | loss: 0.004262552596628666 | test_loss: 0.005269003100693226\n",
            "OrderedDict([('weights', tensor([0.6960])), ('bias', tensor([0.2088]))])\n",
            "epoch: 500 | loss: 0.007258452475070953 | test_loss: 0.008202021941542625\n",
            "OrderedDict([('weights', tensor([0.6921])), ('bias', tensor([0.1988]))])\n",
            "epoch: 500 | loss: 0.004262552596628666 | test_loss: 0.005269003100693226\n",
            "OrderedDict([('weights', tensor([0.6960])), ('bias', tensor([0.2088]))])\n",
            "epoch: 500 | loss: 0.007258452475070953 | test_loss: 0.008202021941542625\n",
            "OrderedDict([('weights', tensor([0.6921])), ('bias', tensor([0.1988]))])\n",
            "epoch: 500 | loss: 0.004262552596628666 | test_loss: 0.005269003100693226\n",
            "OrderedDict([('weights', tensor([0.6960])), ('bias', tensor([0.2088]))])\n",
            "epoch: 500 | loss: 0.007258452475070953 | test_loss: 0.008202021941542625\n",
            "OrderedDict([('weights', tensor([0.6921])), ('bias', tensor([0.1988]))])\n",
            "epoch: 500 | loss: 0.004262552596628666 | test_loss: 0.005269003100693226\n",
            "OrderedDict([('weights', tensor([0.6960])), ('bias', tensor([0.2088]))])\n",
            "epoch: 500 | loss: 0.007258452475070953 | test_loss: 0.008202021941542625\n",
            "OrderedDict([('weights', tensor([0.6921])), ('bias', tensor([0.1988]))])\n",
            "epoch: 500 | loss: 0.004262552596628666 | test_loss: 0.005269003100693226\n",
            "OrderedDict([('weights', tensor([0.6960])), ('bias', tensor([0.2088]))])\n",
            "epoch: 500 | loss: 0.007258452475070953 | test_loss: 0.008202021941542625\n",
            "OrderedDict([('weights', tensor([0.6921])), ('bias', tensor([0.1988]))])\n",
            "epoch: 500 | loss: 0.004262552596628666 | test_loss: 0.005269003100693226\n",
            "OrderedDict([('weights', tensor([0.6960])), ('bias', tensor([0.2088]))])\n",
            "epoch: 500 | loss: 0.007258452475070953 | test_loss: 0.008202021941542625\n",
            "OrderedDict([('weights', tensor([0.6921])), ('bias', tensor([0.1988]))])\n",
            "epoch: 500 | loss: 0.004262552596628666 | test_loss: 0.005269003100693226\n",
            "OrderedDict([('weights', tensor([0.6960])), ('bias', tensor([0.2088]))])\n",
            "epoch: 500 | loss: 0.007258452475070953 | test_loss: 0.008202021941542625\n",
            "OrderedDict([('weights', tensor([0.6921])), ('bias', tensor([0.1988]))])\n",
            "epoch: 500 | loss: 0.004262552596628666 | test_loss: 0.005269003100693226\n",
            "OrderedDict([('weights', tensor([0.6960])), ('bias', tensor([0.2088]))])\n",
            "epoch: 500 | loss: 0.007258452475070953 | test_loss: 0.008202021941542625\n",
            "OrderedDict([('weights', tensor([0.6921])), ('bias', tensor([0.1988]))])\n",
            "epoch: 500 | loss: 0.004262552596628666 | test_loss: 0.005269003100693226\n",
            "OrderedDict([('weights', tensor([0.6960])), ('bias', tensor([0.2088]))])\n",
            "epoch: 500 | loss: 0.007258452475070953 | test_loss: 0.008202021941542625\n",
            "OrderedDict([('weights', tensor([0.6921])), ('bias', tensor([0.1988]))])\n",
            "epoch: 500 | loss: 0.004262552596628666 | test_loss: 0.005269003100693226\n",
            "OrderedDict([('weights', tensor([0.6960])), ('bias', tensor([0.2088]))])\n",
            "epoch: 500 | loss: 0.007258452475070953 | test_loss: 0.008202021941542625\n",
            "OrderedDict([('weights', tensor([0.6921])), ('bias', tensor([0.1988]))])\n",
            "epoch: 500 | loss: 0.004262552596628666 | test_loss: 0.005269003100693226\n",
            "OrderedDict([('weights', tensor([0.6960])), ('bias', tensor([0.2088]))])\n",
            "epoch: 500 | loss: 0.007258452475070953 | test_loss: 0.008202021941542625\n",
            "OrderedDict([('weights', tensor([0.6921])), ('bias', tensor([0.1988]))])\n",
            "epoch: 500 | loss: 0.004262552596628666 | test_loss: 0.005269003100693226\n",
            "OrderedDict([('weights', tensor([0.6960])), ('bias', tensor([0.2088]))])\n",
            "epoch: 500 | loss: 0.007258452475070953 | test_loss: 0.008202021941542625\n",
            "OrderedDict([('weights', tensor([0.6921])), ('bias', tensor([0.1988]))])\n",
            "epoch: 500 | loss: 0.004262552596628666 | test_loss: 0.005269003100693226\n",
            "OrderedDict([('weights', tensor([0.6960])), ('bias', tensor([0.2088]))])\n",
            "epoch: 500 | loss: 0.007258452475070953 | test_loss: 0.008202021941542625\n",
            "OrderedDict([('weights', tensor([0.6921])), ('bias', tensor([0.1988]))])\n",
            "epoch: 500 | loss: 0.004262552596628666 | test_loss: 0.005269003100693226\n",
            "OrderedDict([('weights', tensor([0.6960])), ('bias', tensor([0.2088]))])\n",
            "epoch: 500 | loss: 0.007258452475070953 | test_loss: 0.008202021941542625\n",
            "OrderedDict([('weights', tensor([0.6921])), ('bias', tensor([0.1988]))])\n",
            "epoch: 500 | loss: 0.004262552596628666 | test_loss: 0.005269003100693226\n",
            "OrderedDict([('weights', tensor([0.6960])), ('bias', tensor([0.2088]))])\n",
            "epoch: 500 | loss: 0.007258452475070953 | test_loss: 0.008202021941542625\n",
            "OrderedDict([('weights', tensor([0.6921])), ('bias', tensor([0.1988]))])\n",
            "epoch: 500 | loss: 0.004262552596628666 | test_loss: 0.005269003100693226\n",
            "OrderedDict([('weights', tensor([0.6960])), ('bias', tensor([0.2088]))])\n",
            "epoch: 500 | loss: 0.007258452475070953 | test_loss: 0.008202021941542625\n",
            "OrderedDict([('weights', tensor([0.6921])), ('bias', tensor([0.1988]))])\n",
            "epoch: 500 | loss: 0.004262552596628666 | test_loss: 0.005269003100693226\n",
            "OrderedDict([('weights', tensor([0.6960])), ('bias', tensor([0.2088]))])\n",
            "epoch: 500 | loss: 0.007258452475070953 | test_loss: 0.008202021941542625\n",
            "OrderedDict([('weights', tensor([0.6921])), ('bias', tensor([0.1988]))])\n",
            "epoch: 500 | loss: 0.004262552596628666 | test_loss: 0.005269003100693226\n",
            "OrderedDict([('weights', tensor([0.6960])), ('bias', tensor([0.2088]))])\n",
            "epoch: 500 | loss: 0.007258452475070953 | test_loss: 0.008202021941542625\n",
            "OrderedDict([('weights', tensor([0.6921])), ('bias', tensor([0.1988]))])\n",
            "epoch: 500 | loss: 0.004262552596628666 | test_loss: 0.005269003100693226\n",
            "OrderedDict([('weights', tensor([0.6960])), ('bias', tensor([0.2088]))])\n",
            "epoch: 500 | loss: 0.007258452475070953 | test_loss: 0.008202021941542625\n",
            "OrderedDict([('weights', tensor([0.6921])), ('bias', tensor([0.1988]))])\n",
            "epoch: 500 | loss: 0.004262552596628666 | test_loss: 0.005269003100693226\n",
            "OrderedDict([('weights', tensor([0.6960])), ('bias', tensor([0.2088]))])\n",
            "epoch: 500 | loss: 0.007258452475070953 | test_loss: 0.008202021941542625\n",
            "OrderedDict([('weights', tensor([0.6921])), ('bias', tensor([0.1988]))])\n",
            "epoch: 500 | loss: 0.004262552596628666 | test_loss: 0.005269003100693226\n",
            "OrderedDict([('weights', tensor([0.6960])), ('bias', tensor([0.2088]))])\n",
            "epoch: 500 | loss: 0.007258452475070953 | test_loss: 0.008202021941542625\n",
            "OrderedDict([('weights', tensor([0.6921])), ('bias', tensor([0.1988]))])\n",
            "epoch: 500 | loss: 0.004262552596628666 | test_loss: 0.005269003100693226\n",
            "OrderedDict([('weights', tensor([0.6960])), ('bias', tensor([0.2088]))])\n",
            "epoch: 500 | loss: 0.007258452475070953 | test_loss: 0.008202021941542625\n",
            "OrderedDict([('weights', tensor([0.6921])), ('bias', tensor([0.1988]))])\n",
            "epoch: 500 | loss: 0.004262552596628666 | test_loss: 0.005269003100693226\n",
            "OrderedDict([('weights', tensor([0.6960])), ('bias', tensor([0.2088]))])\n",
            "epoch: 500 | loss: 0.007258452475070953 | test_loss: 0.008202021941542625\n",
            "OrderedDict([('weights', tensor([0.6921])), ('bias', tensor([0.1988]))])\n",
            "epoch: 500 | loss: 0.004262552596628666 | test_loss: 0.005269003100693226\n",
            "OrderedDict([('weights', tensor([0.6960])), ('bias', tensor([0.2088]))])\n",
            "epoch: 500 | loss: 0.007258452475070953 | test_loss: 0.008202021941542625\n",
            "OrderedDict([('weights', tensor([0.6921])), ('bias', tensor([0.1988]))])\n",
            "epoch: 500 | loss: 0.004262552596628666 | test_loss: 0.005269003100693226\n",
            "OrderedDict([('weights', tensor([0.6960])), ('bias', tensor([0.2088]))])\n",
            "epoch: 500 | loss: 0.007258452475070953 | test_loss: 0.008202021941542625\n",
            "OrderedDict([('weights', tensor([0.6921])), ('bias', tensor([0.1988]))])\n",
            "epoch: 500 | loss: 0.004262552596628666 | test_loss: 0.005269003100693226\n",
            "OrderedDict([('weights', tensor([0.6960])), ('bias', tensor([0.2088]))])\n",
            "epoch: 500 | loss: 0.007258452475070953 | test_loss: 0.008202021941542625\n",
            "OrderedDict([('weights', tensor([0.6921])), ('bias', tensor([0.1988]))])\n",
            "epoch: 500 | loss: 0.004262552596628666 | test_loss: 0.005269003100693226\n",
            "OrderedDict([('weights', tensor([0.6960])), ('bias', tensor([0.2088]))])\n",
            "epoch: 500 | loss: 0.007258452475070953 | test_loss: 0.008202021941542625\n",
            "OrderedDict([('weights', tensor([0.6921])), ('bias', tensor([0.1988]))])\n",
            "epoch: 500 | loss: 0.004262552596628666 | test_loss: 0.005269003100693226\n",
            "OrderedDict([('weights', tensor([0.6960])), ('bias', tensor([0.2088]))])\n",
            "epoch: 500 | loss: 0.007258452475070953 | test_loss: 0.008202021941542625\n",
            "OrderedDict([('weights', tensor([0.6921])), ('bias', tensor([0.1988]))])\n",
            "epoch: 500 | loss: 0.004262552596628666 | test_loss: 0.005269003100693226\n",
            "OrderedDict([('weights', tensor([0.6960])), ('bias', tensor([0.2088]))])\n",
            "epoch: 500 | loss: 0.007258452475070953 | test_loss: 0.008202021941542625\n",
            "OrderedDict([('weights', tensor([0.6921])), ('bias', tensor([0.1988]))])\n",
            "epoch: 500 | loss: 0.004262552596628666 | test_loss: 0.005269003100693226\n",
            "OrderedDict([('weights', tensor([0.6960])), ('bias', tensor([0.2088]))])\n",
            "epoch: 500 | loss: 0.007258452475070953 | test_loss: 0.008202021941542625\n",
            "OrderedDict([('weights', tensor([0.6921])), ('bias', tensor([0.1988]))])\n",
            "epoch: 500 | loss: 0.004262552596628666 | test_loss: 0.005269003100693226\n",
            "OrderedDict([('weights', tensor([0.6960])), ('bias', tensor([0.2088]))])\n",
            "epoch: 500 | loss: 0.007258452475070953 | test_loss: 0.008202021941542625\n",
            "OrderedDict([('weights', tensor([0.6921])), ('bias', tensor([0.1988]))])\n",
            "epoch: 500 | loss: 0.004262552596628666 | test_loss: 0.005269003100693226\n",
            "OrderedDict([('weights', tensor([0.6960])), ('bias', tensor([0.2088]))])\n",
            "epoch: 500 | loss: 0.007258452475070953 | test_loss: 0.008202021941542625\n",
            "OrderedDict([('weights', tensor([0.6921])), ('bias', tensor([0.1988]))])\n",
            "epoch: 500 | loss: 0.004262552596628666 | test_loss: 0.005269003100693226\n",
            "OrderedDict([('weights', tensor([0.6960])), ('bias', tensor([0.2088]))])\n",
            "epoch: 500 | loss: 0.007258452475070953 | test_loss: 0.008202021941542625\n",
            "OrderedDict([('weights', tensor([0.6921])), ('bias', tensor([0.1988]))])\n",
            "epoch: 500 | loss: 0.004262552596628666 | test_loss: 0.005269003100693226\n",
            "OrderedDict([('weights', tensor([0.6960])), ('bias', tensor([0.2088]))])\n",
            "epoch: 500 | loss: 0.007258452475070953 | test_loss: 0.008202021941542625\n",
            "OrderedDict([('weights', tensor([0.6921])), ('bias', tensor([0.1988]))])\n",
            "epoch: 500 | loss: 0.004262552596628666 | test_loss: 0.005269003100693226\n",
            "OrderedDict([('weights', tensor([0.6960])), ('bias', tensor([0.2088]))])\n",
            "epoch: 500 | loss: 0.007258452475070953 | test_loss: 0.008202021941542625\n",
            "OrderedDict([('weights', tensor([0.6921])), ('bias', tensor([0.1988]))])\n",
            "epoch: 500 | loss: 0.004262552596628666 | test_loss: 0.005269003100693226\n",
            "OrderedDict([('weights', tensor([0.6960])), ('bias', tensor([0.2088]))])\n",
            "epoch: 500 | loss: 0.007258452475070953 | test_loss: 0.008202021941542625\n",
            "OrderedDict([('weights', tensor([0.6921])), ('bias', tensor([0.1988]))])\n",
            "epoch: 500 | loss: 0.004262552596628666 | test_loss: 0.005269003100693226\n",
            "OrderedDict([('weights', tensor([0.6960])), ('bias', tensor([0.2088]))])\n",
            "epoch: 500 | loss: 0.007258452475070953 | test_loss: 0.008202021941542625\n",
            "OrderedDict([('weights', tensor([0.6921])), ('bias', tensor([0.1988]))])\n",
            "epoch: 500 | loss: 0.004262552596628666 | test_loss: 0.005269003100693226\n",
            "OrderedDict([('weights', tensor([0.6960])), ('bias', tensor([0.2088]))])\n",
            "epoch: 500 | loss: 0.007258452475070953 | test_loss: 0.008202021941542625\n",
            "OrderedDict([('weights', tensor([0.6921])), ('bias', tensor([0.1988]))])\n",
            "epoch: 500 | loss: 0.004262552596628666 | test_loss: 0.005269003100693226\n",
            "OrderedDict([('weights', tensor([0.6960])), ('bias', tensor([0.2088]))])\n",
            "epoch: 500 | loss: 0.007258452475070953 | test_loss: 0.008202021941542625\n",
            "OrderedDict([('weights', tensor([0.6921])), ('bias', tensor([0.1988]))])\n",
            "epoch: 500 | loss: 0.004262552596628666 | test_loss: 0.005269003100693226\n",
            "OrderedDict([('weights', tensor([0.6960])), ('bias', tensor([0.2088]))])\n",
            "epoch: 500 | loss: 0.007258452475070953 | test_loss: 0.008202021941542625\n",
            "OrderedDict([('weights', tensor([0.6921])), ('bias', tensor([0.1988]))])\n",
            "epoch: 500 | loss: 0.004262552596628666 | test_loss: 0.005269003100693226\n",
            "OrderedDict([('weights', tensor([0.6960])), ('bias', tensor([0.2088]))])\n",
            "epoch: 500 | loss: 0.007258452475070953 | test_loss: 0.008202021941542625\n",
            "OrderedDict([('weights', tensor([0.6921])), ('bias', tensor([0.1988]))])\n",
            "epoch: 500 | loss: 0.004262552596628666 | test_loss: 0.005269003100693226\n",
            "OrderedDict([('weights', tensor([0.6960])), ('bias', tensor([0.2088]))])\n",
            "epoch: 500 | loss: 0.007258452475070953 | test_loss: 0.008202021941542625\n",
            "OrderedDict([('weights', tensor([0.6921])), ('bias', tensor([0.1988]))])\n",
            "epoch: 500 | loss: 0.004262552596628666 | test_loss: 0.005269003100693226\n",
            "OrderedDict([('weights', tensor([0.6960])), ('bias', tensor([0.2088]))])\n",
            "epoch: 500 | loss: 0.007258452475070953 | test_loss: 0.008202021941542625\n",
            "OrderedDict([('weights', tensor([0.6921])), ('bias', tensor([0.1988]))])\n",
            "epoch: 500 | loss: 0.004262552596628666 | test_loss: 0.005269003100693226\n",
            "OrderedDict([('weights', tensor([0.6960])), ('bias', tensor([0.2088]))])\n",
            "epoch: 500 | loss: 0.007258452475070953 | test_loss: 0.008202021941542625\n",
            "OrderedDict([('weights', tensor([0.6921])), ('bias', tensor([0.1988]))])\n",
            "epoch: 500 | loss: 0.004262552596628666 | test_loss: 0.005269003100693226\n",
            "OrderedDict([('weights', tensor([0.6960])), ('bias', tensor([0.2088]))])\n",
            "epoch: 500 | loss: 0.007258452475070953 | test_loss: 0.008202021941542625\n",
            "OrderedDict([('weights', tensor([0.6921])), ('bias', tensor([0.1988]))])\n",
            "epoch: 500 | loss: 0.004262552596628666 | test_loss: 0.005269003100693226\n",
            "OrderedDict([('weights', tensor([0.6960])), ('bias', tensor([0.2088]))])\n",
            "epoch: 500 | loss: 0.007258452475070953 | test_loss: 0.008202021941542625\n",
            "OrderedDict([('weights', tensor([0.6921])), ('bias', tensor([0.1988]))])\n",
            "epoch: 500 | loss: 0.004262552596628666 | test_loss: 0.005269003100693226\n",
            "OrderedDict([('weights', tensor([0.6960])), ('bias', tensor([0.2088]))])\n",
            "epoch: 500 | loss: 0.007258452475070953 | test_loss: 0.008202021941542625\n",
            "OrderedDict([('weights', tensor([0.6921])), ('bias', tensor([0.1988]))])\n",
            "epoch: 500 | loss: 0.004262552596628666 | test_loss: 0.005269003100693226\n",
            "OrderedDict([('weights', tensor([0.6960])), ('bias', tensor([0.2088]))])\n",
            "epoch: 500 | loss: 0.007258452475070953 | test_loss: 0.008202021941542625\n",
            "OrderedDict([('weights', tensor([0.6921])), ('bias', tensor([0.1988]))])\n",
            "epoch: 500 | loss: 0.004262552596628666 | test_loss: 0.005269003100693226\n",
            "OrderedDict([('weights', tensor([0.6960])), ('bias', tensor([0.2088]))])\n",
            "epoch: 500 | loss: 0.007258452475070953 | test_loss: 0.008202021941542625\n",
            "OrderedDict([('weights', tensor([0.6921])), ('bias', tensor([0.1988]))])\n",
            "epoch: 500 | loss: 0.004262552596628666 | test_loss: 0.005269003100693226\n",
            "OrderedDict([('weights', tensor([0.6960])), ('bias', tensor([0.2088]))])\n",
            "epoch: 500 | loss: 0.007258452475070953 | test_loss: 0.008202021941542625\n",
            "OrderedDict([('weights', tensor([0.6921])), ('bias', tensor([0.1988]))])\n",
            "epoch: 500 | loss: 0.004262552596628666 | test_loss: 0.005269003100693226\n",
            "OrderedDict([('weights', tensor([0.6960])), ('bias', tensor([0.2088]))])\n",
            "epoch: 500 | loss: 0.007258452475070953 | test_loss: 0.008202021941542625\n",
            "OrderedDict([('weights', tensor([0.6921])), ('bias', tensor([0.1988]))])\n",
            "epoch: 500 | loss: 0.004262552596628666 | test_loss: 0.005269003100693226\n",
            "OrderedDict([('weights', tensor([0.6960])), ('bias', tensor([0.2088]))])\n",
            "epoch: 500 | loss: 0.007258452475070953 | test_loss: 0.008202021941542625\n",
            "OrderedDict([('weights', tensor([0.6921])), ('bias', tensor([0.1988]))])\n",
            "epoch: 500 | loss: 0.004262552596628666 | test_loss: 0.005269003100693226\n",
            "OrderedDict([('weights', tensor([0.6960])), ('bias', tensor([0.2088]))])\n",
            "epoch: 500 | loss: 0.007258452475070953 | test_loss: 0.008202021941542625\n",
            "OrderedDict([('weights', tensor([0.6921])), ('bias', tensor([0.1988]))])\n",
            "epoch: 500 | loss: 0.004262552596628666 | test_loss: 0.005269003100693226\n",
            "OrderedDict([('weights', tensor([0.6960])), ('bias', tensor([0.2088]))])\n",
            "epoch: 500 | loss: 0.007258452475070953 | test_loss: 0.008202021941542625\n",
            "OrderedDict([('weights', tensor([0.6921])), ('bias', tensor([0.1988]))])\n",
            "epoch: 500 | loss: 0.004262552596628666 | test_loss: 0.005269003100693226\n",
            "OrderedDict([('weights', tensor([0.6960])), ('bias', tensor([0.2088]))])\n",
            "epoch: 500 | loss: 0.007258452475070953 | test_loss: 0.008202021941542625\n",
            "OrderedDict([('weights', tensor([0.6921])), ('bias', tensor([0.1988]))])\n",
            "epoch: 500 | loss: 0.004262552596628666 | test_loss: 0.005269003100693226\n",
            "OrderedDict([('weights', tensor([0.6960])), ('bias', tensor([0.2088]))])\n",
            "epoch: 500 | loss: 0.007258452475070953 | test_loss: 0.008202021941542625\n",
            "OrderedDict([('weights', tensor([0.6921])), ('bias', tensor([0.1988]))])\n",
            "epoch: 500 | loss: 0.004262552596628666 | test_loss: 0.005269003100693226\n",
            "OrderedDict([('weights', tensor([0.6960])), ('bias', tensor([0.2088]))])\n",
            "epoch: 500 | loss: 0.007258452475070953 | test_loss: 0.008202021941542625\n",
            "OrderedDict([('weights', tensor([0.6921])), ('bias', tensor([0.1988]))])\n",
            "epoch: 500 | loss: 0.004262552596628666 | test_loss: 0.005269003100693226\n",
            "OrderedDict([('weights', tensor([0.6960])), ('bias', tensor([0.2088]))])\n",
            "epoch: 500 | loss: 0.007258452475070953 | test_loss: 0.008202021941542625\n",
            "OrderedDict([('weights', tensor([0.6921])), ('bias', tensor([0.1988]))])\n",
            "epoch: 500 | loss: 0.004262552596628666 | test_loss: 0.005269003100693226\n",
            "OrderedDict([('weights', tensor([0.6960])), ('bias', tensor([0.2088]))])\n",
            "epoch: 500 | loss: 0.007258452475070953 | test_loss: 0.008202021941542625\n",
            "OrderedDict([('weights', tensor([0.6921])), ('bias', tensor([0.1988]))])\n",
            "epoch: 500 | loss: 0.004262552596628666 | test_loss: 0.005269003100693226\n",
            "OrderedDict([('weights', tensor([0.6960])), ('bias', tensor([0.2088]))])\n",
            "epoch: 500 | loss: 0.007258452475070953 | test_loss: 0.008202021941542625\n",
            "OrderedDict([('weights', tensor([0.6921])), ('bias', tensor([0.1988]))])\n",
            "epoch: 500 | loss: 0.004262552596628666 | test_loss: 0.005269003100693226\n",
            "OrderedDict([('weights', tensor([0.6960])), ('bias', tensor([0.2088]))])\n",
            "epoch: 500 | loss: 0.007258452475070953 | test_loss: 0.008202021941542625\n",
            "OrderedDict([('weights', tensor([0.6921])), ('bias', tensor([0.1988]))])\n",
            "epoch: 500 | loss: 0.004262552596628666 | test_loss: 0.005269003100693226\n",
            "OrderedDict([('weights', tensor([0.6960])), ('bias', tensor([0.2088]))])\n",
            "epoch: 500 | loss: 0.007258452475070953 | test_loss: 0.008202021941542625\n",
            "OrderedDict([('weights', tensor([0.6921])), ('bias', tensor([0.1988]))])\n",
            "epoch: 500 | loss: 0.004262552596628666 | test_loss: 0.005269003100693226\n",
            "OrderedDict([('weights', tensor([0.6960])), ('bias', tensor([0.2088]))])\n",
            "epoch: 500 | loss: 0.007258452475070953 | test_loss: 0.008202021941542625\n",
            "OrderedDict([('weights', tensor([0.6921])), ('bias', tensor([0.1988]))])\n",
            "epoch: 500 | loss: 0.004262552596628666 | test_loss: 0.005269003100693226\n",
            "OrderedDict([('weights', tensor([0.6960])), ('bias', tensor([0.2088]))])\n",
            "epoch: 500 | loss: 0.007258452475070953 | test_loss: 0.008202021941542625\n",
            "OrderedDict([('weights', tensor([0.6921])), ('bias', tensor([0.1988]))])\n",
            "epoch: 500 | loss: 0.004262552596628666 | test_loss: 0.005269003100693226\n",
            "OrderedDict([('weights', tensor([0.6960])), ('bias', tensor([0.2088]))])\n",
            "epoch: 500 | loss: 0.007258452475070953 | test_loss: 0.008202021941542625\n",
            "OrderedDict([('weights', tensor([0.6921])), ('bias', tensor([0.1988]))])\n",
            "epoch: 500 | loss: 0.004262552596628666 | test_loss: 0.005269003100693226\n",
            "OrderedDict([('weights', tensor([0.6960])), ('bias', tensor([0.2088]))])\n",
            "epoch: 500 | loss: 0.007258452475070953 | test_loss: 0.008202021941542625\n",
            "OrderedDict([('weights', tensor([0.6921])), ('bias', tensor([0.1988]))])\n",
            "epoch: 500 | loss: 0.004262552596628666 | test_loss: 0.005269003100693226\n",
            "OrderedDict([('weights', tensor([0.6960])), ('bias', tensor([0.2088]))])\n",
            "epoch: 500 | loss: 0.007258452475070953 | test_loss: 0.008202021941542625\n",
            "OrderedDict([('weights', tensor([0.6921])), ('bias', tensor([0.1988]))])\n",
            "epoch: 500 | loss: 0.004262552596628666 | test_loss: 0.005269003100693226\n",
            "OrderedDict([('weights', tensor([0.6960])), ('bias', tensor([0.2088]))])\n",
            "epoch: 500 | loss: 0.007258452475070953 | test_loss: 0.008202021941542625\n",
            "OrderedDict([('weights', tensor([0.6921])), ('bias', tensor([0.1988]))])\n",
            "epoch: 500 | loss: 0.004262552596628666 | test_loss: 0.005269003100693226\n",
            "OrderedDict([('weights', tensor([0.6960])), ('bias', tensor([0.2088]))])\n",
            "epoch: 500 | loss: 0.007258452475070953 | test_loss: 0.008202021941542625\n",
            "OrderedDict([('weights', tensor([0.6921])), ('bias', tensor([0.1988]))])\n",
            "epoch: 500 | loss: 0.004262552596628666 | test_loss: 0.005269003100693226\n",
            "OrderedDict([('weights', tensor([0.6960])), ('bias', tensor([0.2088]))])\n",
            "epoch: 500 | loss: 0.007258452475070953 | test_loss: 0.008202021941542625\n",
            "OrderedDict([('weights', tensor([0.6921])), ('bias', tensor([0.1988]))])\n",
            "epoch: 500 | loss: 0.004262552596628666 | test_loss: 0.005269003100693226\n",
            "OrderedDict([('weights', tensor([0.6960])), ('bias', tensor([0.2088]))])\n",
            "epoch: 500 | loss: 0.007258452475070953 | test_loss: 0.008202021941542625\n",
            "OrderedDict([('weights', tensor([0.6921])), ('bias', tensor([0.1988]))])\n",
            "epoch: 500 | loss: 0.004262552596628666 | test_loss: 0.005269003100693226\n",
            "OrderedDict([('weights', tensor([0.6960])), ('bias', tensor([0.2088]))])\n",
            "epoch: 500 | loss: 0.007258452475070953 | test_loss: 0.008202021941542625\n",
            "OrderedDict([('weights', tensor([0.6921])), ('bias', tensor([0.1988]))])\n",
            "epoch: 500 | loss: 0.004262552596628666 | test_loss: 0.005269003100693226\n",
            "OrderedDict([('weights', tensor([0.6960])), ('bias', tensor([0.2088]))])\n",
            "epoch: 500 | loss: 0.007258452475070953 | test_loss: 0.008202021941542625\n",
            "OrderedDict([('weights', tensor([0.6921])), ('bias', tensor([0.1988]))])\n",
            "epoch: 500 | loss: 0.004262552596628666 | test_loss: 0.005269003100693226\n",
            "OrderedDict([('weights', tensor([0.6960])), ('bias', tensor([0.2088]))])\n",
            "epoch: 500 | loss: 0.007258452475070953 | test_loss: 0.008202021941542625\n",
            "OrderedDict([('weights', tensor([0.6921])), ('bias', tensor([0.1988]))])\n",
            "epoch: 500 | loss: 0.004262552596628666 | test_loss: 0.005269003100693226\n",
            "OrderedDict([('weights', tensor([0.6960])), ('bias', tensor([0.2088]))])\n",
            "epoch: 500 | loss: 0.007258452475070953 | test_loss: 0.008202021941542625\n",
            "OrderedDict([('weights', tensor([0.6921])), ('bias', tensor([0.1988]))])\n",
            "epoch: 500 | loss: 0.004262552596628666 | test_loss: 0.005269003100693226\n",
            "OrderedDict([('weights', tensor([0.6960])), ('bias', tensor([0.2088]))])\n",
            "epoch: 500 | loss: 0.007258452475070953 | test_loss: 0.008202021941542625\n",
            "OrderedDict([('weights', tensor([0.6921])), ('bias', tensor([0.1988]))])\n",
            "epoch: 500 | loss: 0.004262552596628666 | test_loss: 0.005269003100693226\n",
            "OrderedDict([('weights', tensor([0.6960])), ('bias', tensor([0.2088]))])\n",
            "epoch: 500 | loss: 0.007258452475070953 | test_loss: 0.008202021941542625\n",
            "OrderedDict([('weights', tensor([0.6921])), ('bias', tensor([0.1988]))])\n",
            "epoch: 500 | loss: 0.004262552596628666 | test_loss: 0.005269003100693226\n",
            "OrderedDict([('weights', tensor([0.6960])), ('bias', tensor([0.2088]))])\n",
            "epoch: 500 | loss: 0.007258452475070953 | test_loss: 0.008202021941542625\n",
            "OrderedDict([('weights', tensor([0.6921])), ('bias', tensor([0.1988]))])\n",
            "epoch: 500 | loss: 0.004262552596628666 | test_loss: 0.005269003100693226\n",
            "OrderedDict([('weights', tensor([0.6960])), ('bias', tensor([0.2088]))])\n",
            "epoch: 500 | loss: 0.007258452475070953 | test_loss: 0.008202021941542625\n",
            "OrderedDict([('weights', tensor([0.6921])), ('bias', tensor([0.1988]))])\n",
            "epoch: 500 | loss: 0.004262552596628666 | test_loss: 0.005269003100693226\n",
            "OrderedDict([('weights', tensor([0.6960])), ('bias', tensor([0.2088]))])\n",
            "epoch: 500 | loss: 0.007258452475070953 | test_loss: 0.008202021941542625\n",
            "OrderedDict([('weights', tensor([0.6921])), ('bias', tensor([0.1988]))])\n",
            "epoch: 500 | loss: 0.004262552596628666 | test_loss: 0.005269003100693226\n",
            "OrderedDict([('weights', tensor([0.6960])), ('bias', tensor([0.2088]))])\n",
            "epoch: 500 | loss: 0.007258452475070953 | test_loss: 0.008202021941542625\n",
            "OrderedDict([('weights', tensor([0.6921])), ('bias', tensor([0.1988]))])\n",
            "epoch: 500 | loss: 0.004262552596628666 | test_loss: 0.005269003100693226\n",
            "OrderedDict([('weights', tensor([0.6960])), ('bias', tensor([0.2088]))])\n",
            "epoch: 500 | loss: 0.007258452475070953 | test_loss: 0.008202021941542625\n",
            "OrderedDict([('weights', tensor([0.6921])), ('bias', tensor([0.1988]))])\n",
            "epoch: 500 | loss: 0.004262552596628666 | test_loss: 0.005269003100693226\n",
            "OrderedDict([('weights', tensor([0.6960])), ('bias', tensor([0.2088]))])\n",
            "epoch: 500 | loss: 0.007258452475070953 | test_loss: 0.008202021941542625\n",
            "OrderedDict([('weights', tensor([0.6921])), ('bias', tensor([0.1988]))])\n",
            "epoch: 500 | loss: 0.004262552596628666 | test_loss: 0.005269003100693226\n",
            "OrderedDict([('weights', tensor([0.6960])), ('bias', tensor([0.2088]))])\n",
            "epoch: 500 | loss: 0.007258452475070953 | test_loss: 0.008202021941542625\n",
            "OrderedDict([('weights', tensor([0.6921])), ('bias', tensor([0.1988]))])\n",
            "epoch: 500 | loss: 0.004262552596628666 | test_loss: 0.005269003100693226\n",
            "OrderedDict([('weights', tensor([0.6960])), ('bias', tensor([0.2088]))])\n",
            "epoch: 500 | loss: 0.007258452475070953 | test_loss: 0.008202021941542625\n",
            "OrderedDict([('weights', tensor([0.6921])), ('bias', tensor([0.1988]))])\n",
            "epoch: 500 | loss: 0.004262552596628666 | test_loss: 0.005269003100693226\n",
            "OrderedDict([('weights', tensor([0.6960])), ('bias', tensor([0.2088]))])\n",
            "epoch: 500 | loss: 0.007258452475070953 | test_loss: 0.008202021941542625\n",
            "OrderedDict([('weights', tensor([0.6921])), ('bias', tensor([0.1988]))])\n",
            "epoch: 500 | loss: 0.004262552596628666 | test_loss: 0.005269003100693226\n",
            "OrderedDict([('weights', tensor([0.6960])), ('bias', tensor([0.2088]))])\n",
            "epoch: 500 | loss: 0.007258452475070953 | test_loss: 0.008202021941542625\n",
            "OrderedDict([('weights', tensor([0.6921])), ('bias', tensor([0.1988]))])\n",
            "epoch: 500 | loss: 0.004262552596628666 | test_loss: 0.005269003100693226\n",
            "OrderedDict([('weights', tensor([0.6960])), ('bias', tensor([0.2088]))])\n",
            "epoch: 500 | loss: 0.007258452475070953 | test_loss: 0.008202021941542625\n",
            "OrderedDict([('weights', tensor([0.6921])), ('bias', tensor([0.1988]))])\n",
            "epoch: 500 | loss: 0.004262552596628666 | test_loss: 0.005269003100693226\n",
            "OrderedDict([('weights', tensor([0.6960])), ('bias', tensor([0.2088]))])\n",
            "epoch: 500 | loss: 0.007258452475070953 | test_loss: 0.008202021941542625\n",
            "OrderedDict([('weights', tensor([0.6921])), ('bias', tensor([0.1988]))])\n",
            "epoch: 500 | loss: 0.004262552596628666 | test_loss: 0.005269003100693226\n",
            "OrderedDict([('weights', tensor([0.6960])), ('bias', tensor([0.2088]))])\n",
            "epoch: 500 | loss: 0.007258452475070953 | test_loss: 0.008202021941542625\n",
            "OrderedDict([('weights', tensor([0.6921])), ('bias', tensor([0.1988]))])\n",
            "epoch: 500 | loss: 0.004262552596628666 | test_loss: 0.005269003100693226\n",
            "OrderedDict([('weights', tensor([0.6960])), ('bias', tensor([0.2088]))])\n",
            "epoch: 500 | loss: 0.007258452475070953 | test_loss: 0.008202021941542625\n",
            "OrderedDict([('weights', tensor([0.6921])), ('bias', tensor([0.1988]))])\n",
            "epoch: 500 | loss: 0.004262552596628666 | test_loss: 0.005269003100693226\n",
            "OrderedDict([('weights', tensor([0.6960])), ('bias', tensor([0.2088]))])\n",
            "epoch: 500 | loss: 0.007258452475070953 | test_loss: 0.008202021941542625\n",
            "OrderedDict([('weights', tensor([0.6921])), ('bias', tensor([0.1988]))])\n",
            "epoch: 500 | loss: 0.004262552596628666 | test_loss: 0.005269003100693226\n",
            "OrderedDict([('weights', tensor([0.6960])), ('bias', tensor([0.2088]))])\n",
            "epoch: 500 | loss: 0.007258452475070953 | test_loss: 0.008202021941542625\n",
            "OrderedDict([('weights', tensor([0.6921])), ('bias', tensor([0.1988]))])\n",
            "epoch: 500 | loss: 0.004262552596628666 | test_loss: 0.005269003100693226\n",
            "OrderedDict([('weights', tensor([0.6960])), ('bias', tensor([0.2088]))])\n",
            "epoch: 500 | loss: 0.007258452475070953 | test_loss: 0.008202021941542625\n",
            "OrderedDict([('weights', tensor([0.6921])), ('bias', tensor([0.1988]))])\n",
            "epoch: 500 | loss: 0.004262552596628666 | test_loss: 0.005269003100693226\n",
            "OrderedDict([('weights', tensor([0.6960])), ('bias', tensor([0.2088]))])\n",
            "epoch: 500 | loss: 0.007258452475070953 | test_loss: 0.008202021941542625\n",
            "OrderedDict([('weights', tensor([0.6921])), ('bias', tensor([0.1988]))])\n",
            "epoch: 500 | loss: 0.004262552596628666 | test_loss: 0.005269003100693226\n",
            "OrderedDict([('weights', tensor([0.6960])), ('bias', tensor([0.2088]))])\n",
            "epoch: 500 | loss: 0.007258452475070953 | test_loss: 0.008202021941542625\n",
            "OrderedDict([('weights', tensor([0.6921])), ('bias', tensor([0.1988]))])\n",
            "epoch: 500 | loss: 0.004262552596628666 | test_loss: 0.005269003100693226\n",
            "OrderedDict([('weights', tensor([0.6960])), ('bias', tensor([0.2088]))])\n",
            "epoch: 500 | loss: 0.007258452475070953 | test_loss: 0.008202021941542625\n",
            "OrderedDict([('weights', tensor([0.6921])), ('bias', tensor([0.1988]))])\n",
            "epoch: 500 | loss: 0.004262552596628666 | test_loss: 0.005269003100693226\n",
            "OrderedDict([('weights', tensor([0.6960])), ('bias', tensor([0.2088]))])\n",
            "epoch: 500 | loss: 0.007258452475070953 | test_loss: 0.008202021941542625\n",
            "OrderedDict([('weights', tensor([0.6921])), ('bias', tensor([0.1988]))])\n",
            "epoch: 500 | loss: 0.004262552596628666 | test_loss: 0.005269003100693226\n",
            "OrderedDict([('weights', tensor([0.6960])), ('bias', tensor([0.2088]))])\n",
            "epoch: 500 | loss: 0.007258452475070953 | test_loss: 0.008202021941542625\n",
            "OrderedDict([('weights', tensor([0.6921])), ('bias', tensor([0.1988]))])\n",
            "epoch: 500 | loss: 0.004262552596628666 | test_loss: 0.005269003100693226\n",
            "OrderedDict([('weights', tensor([0.6960])), ('bias', tensor([0.2088]))])\n",
            "epoch: 500 | loss: 0.007258452475070953 | test_loss: 0.008202021941542625\n",
            "OrderedDict([('weights', tensor([0.6921])), ('bias', tensor([0.1988]))])\n",
            "epoch: 500 | loss: 0.004262552596628666 | test_loss: 0.005269003100693226\n",
            "OrderedDict([('weights', tensor([0.6960])), ('bias', tensor([0.2088]))])\n",
            "epoch: 500 | loss: 0.007258452475070953 | test_loss: 0.008202021941542625\n",
            "OrderedDict([('weights', tensor([0.6921])), ('bias', tensor([0.1988]))])\n",
            "epoch: 500 | loss: 0.004262552596628666 | test_loss: 0.005269003100693226\n",
            "OrderedDict([('weights', tensor([0.6960])), ('bias', tensor([0.2088]))])\n",
            "epoch: 500 | loss: 0.007258452475070953 | test_loss: 0.008202021941542625\n",
            "OrderedDict([('weights', tensor([0.6921])), ('bias', tensor([0.1988]))])\n",
            "epoch: 500 | loss: 0.004262552596628666 | test_loss: 0.005269003100693226\n",
            "OrderedDict([('weights', tensor([0.6960])), ('bias', tensor([0.2088]))])\n",
            "epoch: 500 | loss: 0.007258452475070953 | test_loss: 0.008202021941542625\n",
            "OrderedDict([('weights', tensor([0.6921])), ('bias', tensor([0.1988]))])\n",
            "epoch: 500 | loss: 0.004262552596628666 | test_loss: 0.005269003100693226\n",
            "OrderedDict([('weights', tensor([0.6960])), ('bias', tensor([0.2088]))])\n",
            "epoch: 500 | loss: 0.007258452475070953 | test_loss: 0.008202021941542625\n",
            "OrderedDict([('weights', tensor([0.6921])), ('bias', tensor([0.1988]))])\n",
            "epoch: 500 | loss: 0.004262552596628666 | test_loss: 0.005269003100693226\n",
            "OrderedDict([('weights', tensor([0.6960])), ('bias', tensor([0.2088]))])\n",
            "epoch: 500 | loss: 0.007258452475070953 | test_loss: 0.008202021941542625\n",
            "OrderedDict([('weights', tensor([0.6921])), ('bias', tensor([0.1988]))])\n",
            "epoch: 500 | loss: 0.004262552596628666 | test_loss: 0.005269003100693226\n",
            "OrderedDict([('weights', tensor([0.6960])), ('bias', tensor([0.2088]))])\n",
            "epoch: 500 | loss: 0.007258452475070953 | test_loss: 0.008202021941542625\n",
            "OrderedDict([('weights', tensor([0.6921])), ('bias', tensor([0.1988]))])\n",
            "epoch: 500 | loss: 0.004262552596628666 | test_loss: 0.005269003100693226\n",
            "OrderedDict([('weights', tensor([0.6960])), ('bias', tensor([0.2088]))])\n",
            "epoch: 500 | loss: 0.007258452475070953 | test_loss: 0.008202021941542625\n",
            "OrderedDict([('weights', tensor([0.6921])), ('bias', tensor([0.1988]))])\n",
            "epoch: 500 | loss: 0.004262552596628666 | test_loss: 0.005269003100693226\n",
            "OrderedDict([('weights', tensor([0.6960])), ('bias', tensor([0.2088]))])\n",
            "epoch: 500 | loss: 0.007258452475070953 | test_loss: 0.008202021941542625\n",
            "OrderedDict([('weights', tensor([0.6921])), ('bias', tensor([0.1988]))])\n",
            "epoch: 500 | loss: 0.004262552596628666 | test_loss: 0.005269003100693226\n",
            "OrderedDict([('weights', tensor([0.6960])), ('bias', tensor([0.2088]))])\n",
            "epoch: 500 | loss: 0.007258452475070953 | test_loss: 0.008202021941542625\n",
            "OrderedDict([('weights', tensor([0.6921])), ('bias', tensor([0.1988]))])\n",
            "epoch: 500 | loss: 0.004262552596628666 | test_loss: 0.005269003100693226\n",
            "OrderedDict([('weights', tensor([0.6960])), ('bias', tensor([0.2088]))])\n",
            "epoch: 500 | loss: 0.007258452475070953 | test_loss: 0.008202021941542625\n",
            "OrderedDict([('weights', tensor([0.6921])), ('bias', tensor([0.1988]))])\n",
            "epoch: 500 | loss: 0.004262552596628666 | test_loss: 0.005269003100693226\n",
            "OrderedDict([('weights', tensor([0.6960])), ('bias', tensor([0.2088]))])\n",
            "epoch: 500 | loss: 0.007258452475070953 | test_loss: 0.008202021941542625\n",
            "OrderedDict([('weights', tensor([0.6921])), ('bias', tensor([0.1988]))])\n",
            "epoch: 500 | loss: 0.004262552596628666 | test_loss: 0.005269003100693226\n",
            "OrderedDict([('weights', tensor([0.6960])), ('bias', tensor([0.2088]))])\n",
            "epoch: 500 | loss: 0.007258452475070953 | test_loss: 0.008202021941542625\n",
            "OrderedDict([('weights', tensor([0.6921])), ('bias', tensor([0.1988]))])\n",
            "epoch: 500 | loss: 0.004262552596628666 | test_loss: 0.005269003100693226\n",
            "OrderedDict([('weights', tensor([0.6960])), ('bias', tensor([0.2088]))])\n",
            "epoch: 500 | loss: 0.007258452475070953 | test_loss: 0.008202021941542625\n",
            "OrderedDict([('weights', tensor([0.6921])), ('bias', tensor([0.1988]))])\n",
            "epoch: 500 | loss: 0.004262552596628666 | test_loss: 0.005269003100693226\n",
            "OrderedDict([('weights', tensor([0.6960])), ('bias', tensor([0.2088]))])\n",
            "epoch: 500 | loss: 0.007258452475070953 | test_loss: 0.008202021941542625\n",
            "OrderedDict([('weights', tensor([0.6921])), ('bias', tensor([0.1988]))])\n",
            "epoch: 500 | loss: 0.004262552596628666 | test_loss: 0.005269003100693226\n",
            "OrderedDict([('weights', tensor([0.6960])), ('bias', tensor([0.2088]))])\n",
            "epoch: 500 | loss: 0.007258452475070953 | test_loss: 0.008202021941542625\n",
            "OrderedDict([('weights', tensor([0.6921])), ('bias', tensor([0.1988]))])\n",
            "epoch: 500 | loss: 0.004262552596628666 | test_loss: 0.005269003100693226\n",
            "OrderedDict([('weights', tensor([0.6960])), ('bias', tensor([0.2088]))])\n",
            "epoch: 500 | loss: 0.007258452475070953 | test_loss: 0.008202021941542625\n",
            "OrderedDict([('weights', tensor([0.6921])), ('bias', tensor([0.1988]))])\n",
            "epoch: 500 | loss: 0.004262552596628666 | test_loss: 0.005269003100693226\n",
            "OrderedDict([('weights', tensor([0.6960])), ('bias', tensor([0.2088]))])\n",
            "epoch: 500 | loss: 0.007258452475070953 | test_loss: 0.008202021941542625\n",
            "OrderedDict([('weights', tensor([0.6921])), ('bias', tensor([0.1988]))])\n"
          ]
        }
      ]
    },
    {
      "cell_type": "code",
      "source": [
        "import numpy as np"
      ],
      "metadata": {
        "id": "iXwSBAu5uOFd"
      },
      "execution_count": null,
      "outputs": []
    },
    {
      "cell_type": "code",
      "source": [
        "plt.plot(epoch_count, np.array(torch.tensor(loss_count).numpy()), label = 'train_loss')\n",
        "plt.plot(epoch_count, testloss_count, label = 'test_loss')\n",
        "plt.legend()"
      ],
      "metadata": {
        "colab": {
          "base_uri": "https://localhost:8080/",
          "height": 453
        },
        "id": "JJMEZWhotkAT",
        "outputId": "690cce3e-0f5e-490c-fd61-469e191eab6e"
      },
      "execution_count": null,
      "outputs": [
        {
          "output_type": "execute_result",
          "data": {
            "text/plain": [
              "<matplotlib.legend.Legend at 0x7974c4bfcca0>"
            ]
          },
          "metadata": {},
          "execution_count": 129
        },
        {
          "output_type": "display_data",
          "data": {
            "text/plain": [
              "<Figure size 640x480 with 1 Axes>"
            ],
            "image/png": "[encoded data removed]"
          },
          "metadata": {}
        }
      ]
    },
    {
      "cell_type": "code",
      "source": [
        "y_test"
      ],
      "metadata": {
        "colab": {
          "base_uri": "https://localhost:8080/"
        },
        "id": "MRSdMiwQphkl",
        "outputId": "2023eb2d-73bf-46c1-d6bd-5cbbca6898a0"
      },
      "execution_count": null,
      "outputs": [
        {
          "output_type": "execute_result",
          "data": {
            "text/plain": [
              "tensor([[0.7600],\n",
              "        [0.7740],\n",
              "        [0.7880],\n",
              "        [0.8020],\n",
              "        [0.8160],\n",
              "        [0.8300],\n",
              "        [0.8440],\n",
              "        [0.8580],\n",
              "        [0.8720],\n",
              "        [0.8860]])"
            ]
          },
          "metadata": {},
          "execution_count": 130
        }
      ]
    },
    {
      "cell_type": "code",
      "source": [
        "with torch.inference_mode():\n",
        "  y_preds_new = model_0(X_test)\n",
        "\n",
        "y_preds_new"
      ],
      "metadata": {
        "colab": {
          "base_uri": "https://localhost:8080/"
        },
        "id": "BR0XQZlDoBCd",
        "outputId": "8b1dbeca-656d-45a9-a094-aed6ab5042b7"
      },
      "execution_count": null,
      "outputs": [
        {
          "output_type": "execute_result",
          "data": {
            "text/plain": [
              "tensor([[0.7525],\n",
              "        [0.7663],\n",
              "        [0.7802],\n",
              "        [0.7940],\n",
              "        [0.8079],\n",
              "        [0.8217],\n",
              "        [0.8356],\n",
              "        [0.8494],\n",
              "        [0.8632],\n",
              "        [0.8771]])"
            ]
          },
          "metadata": {},
          "execution_count": 131
        }
      ]
    },
    {
      "cell_type": "code",
      "source": [
        "def plot_predictions(train_data=X_train,\n",
        "                     train_labels=y_train,\n",
        "                     test_data=X_test,\n",
        "                     test_labels=y_test,\n",
        "                     predictions=None):\n",
        "  \"\"\"\n",
        "  Plots training data, test data and compares predictions.\n",
        "  \"\"\"\n",
        "  plt.figure(figsize=(10, 7))\n",
        "\n",
        "  # Plot training data in blue\n",
        "  plt.scatter(train_data, train_labels, c=\"b\", s=4, label=\"Training data\")\n",
        "\n",
        "  # Plot test data in green\n",
        "  plt.scatter(test_data, test_labels, c=\"g\", s=4, label=\"Testing data\")\n",
        "\n",
        "  # Are there predictions?\n",
        "  if predictions is not None:\n",
        "    # Plot the predictions if they exist\n",
        "    plt.scatter(test_data, predictions, c=\"r\", s=4, label=\"Predictions\")\n",
        "\n",
        "  # Show the legend\n",
        "  plt.legend(prop={\"size\": 14});\n"
      ],
      "metadata": {
        "id": "YUXgFg8sobQq"
      },
      "execution_count": null,
      "outputs": []
    },
    {
      "cell_type": "code",
      "source": [
        "plot_predictions(predictions = y_preds_new)"
      ],
      "metadata": {
        "colab": {
          "base_uri": "https://localhost:8080/",
          "height": 599
        },
        "id": "xJr1Avh4rqu1",
        "outputId": "7ee99e84-1f1a-4145-e8dd-034a2ffa3f3d"
      },
      "execution_count": null,
      "outputs": [
        {
          "output_type": "display_data",
          "data": {
            "text/plain": [
              "<Figure size 1000x700 with 1 Axes>"
            ],
            "image/png": "[encoded data removed]"
          },
          "metadata": {}
        }
      ]
    },
    {
      "cell_type": "code",
      "source": [
        "import torch\n",
        "from torch import nn\n",
        "import matplotlib.pyplot as plt"
      ],
      "metadata": {
        "id": "KIXIgNXCrxFi"
      },
      "execution_count": null,
      "outputs": []
    },
    {
      "cell_type": "code",
      "source": [
        "w = 0.9\n",
        "b = 0.3\n",
        "X = torch.arange(0,2,0.04).unsqueeze(dim=1)\n",
        "y = w * X + b\n",
        "\n",
        "X[:5], y[:5]"
      ],
      "metadata": {
        "colab": {
          "base_uri": "https://localhost:8080/"
        },
        "id": "f_x_a_n61Eta",
        "outputId": "4ec5388c-edb6-4738-fce8-d3631ba7e58b"
      },
      "execution_count": null,
      "outputs": [
        {
          "output_type": "execute_result",
          "data": {
            "text/plain": [
              "(tensor([[0.0000],\n",
              "         [0.0400],\n",
              "         [0.0800],\n",
              "         [0.1200],\n",
              "         [0.1600]]),\n",
              " tensor([[0.3000],\n",
              "         [0.3360],\n",
              "         [0.3720],\n",
              "         [0.4080],\n",
              "         [0.4440]]))"
            ]
          },
          "metadata": {},
          "execution_count": 135
        }
      ]
    },
    {
      "cell_type": "code",
      "source": [
        "train_split = int(0.8 * len(X))\n",
        "X_train, y_train = X[:train_split], y[:train_split]\n",
        "X_test, y_test = X[train_split:], y[train_split:]"
      ],
      "metadata": {
        "id": "yuVrEP3x1f65"
      },
      "execution_count": null,
      "outputs": []
    },
    {
      "cell_type": "code",
      "source": [
        "device = 'cuda' if torch.cuda.is_available() else 'cpu'\n",
        "device"
      ],
      "metadata": {
        "colab": {
          "base_uri": "https://localhost:8080/",
          "height": 35
        },
        "id": "KTEgDYQO1m2O",
        "outputId": "979f8bcc-cb77-4bc4-bc18-df7e529aa7b8"
      },
      "execution_count": null,
      "outputs": [
        {
          "output_type": "execute_result",
          "data": {
            "text/plain": [
              "'cpu'"
            ],
            "application/vnd.google.colaboratory.intrinsic+json": {
              "type": "string"
            }
          },
          "metadata": {},
          "execution_count": 138
        }
      ]
    },
    {
      "cell_type": "code",
      "source": [
        "plot_predictions()"
      ],
      "metadata": {
        "colab": {
          "base_uri": "https://localhost:8080/",
          "height": 599
        },
        "id": "YdPs6DR72GHa",
        "outputId": "2bbfe5c4-5f78-4305-c610-72232a15db96"
      },
      "execution_count": null,
      "outputs": [
        {
          "output_type": "display_data",
          "data": {
            "text/plain": [
              "<Figure size 1000x700 with 1 Axes>"
            ],
            "image/png": "[encoded data removed]"
          },
          "metadata": {}
        }
      ]
    },
    {
      "cell_type": "code",
      "source": [
        "class LRModel(nn.Module):\n",
        "  def __init__(self):\n",
        "    super().__init__()\n",
        "    self.weights = nn.Parameter(torch.randn(1,\n",
        "                                             dtype = torch.float)) ##requires_grad is true by default\n",
        "    self.bias = nn.Parameter(torch.randn(1,\n",
        "                                          dtype = torch.float))\n",
        "\n",
        "  def forward(self, x: torch.Tensor) -> torch.Tensor:\n",
        "    return self.weights * x + self.bias\n"
      ],
      "metadata": {
        "id": "KJ0trmK32PKb"
      },
      "execution_count": null,
      "outputs": []
    },
    {
      "cell_type": "code",
      "source": [
        "model = LRModel()\n",
        "model.state_dict()"
      ],
      "metadata": {
        "colab": {
          "base_uri": "https://localhost:8080/"
        },
        "id": "EdJ2szG13Y7b",
        "outputId": "712872dc-bd1f-4df9-c17e-be72fd41c7fa"
      },
      "execution_count": null,
      "outputs": [
        {
          "output_type": "execute_result",
          "data": {
            "text/plain": [
              "OrderedDict([('weights', tensor([0.4617])), ('bias', tensor([0.2674]))])"
            ]
          },
          "metadata": {},
          "execution_count": 168
        }
      ]
    },
    {
      "cell_type": "code",
      "source": [
        "loss_fn = nn.L1Loss()\n"
      ],
      "metadata": {
        "id": "U5jEiJnx3DEm"
      },
      "execution_count": null,
      "outputs": []
    },
    {
      "cell_type": "code",
      "source": [
        "epochs = 2000\n",
        "epoch_count = []\n",
        "loss_count = []\n",
        "test_loss_count = []\n",
        "\n",
        "optimizer = torch.optim.SGD(params = list(model.parameters()),\n",
        "                            lr = 0.01 if epochs > 500 else 0.001)\n",
        "\n",
        "for epoch in range(epochs):\n",
        "  model.train()\n",
        "\n",
        "  y_preds = model(X_train)\n",
        "\n",
        "  loss = loss_fn(y_preds, y_train)\n",
        "\n",
        "  optimizer.zero_grad()\n",
        "\n",
        "  loss.backward()\n",
        "\n",
        "  optimizer.step()\n",
        "\n",
        "  model.eval()\n",
        "  with torch.inference_mode():\n",
        "    test_preds = model(X_test)\n",
        "    test_loss = loss_fn(test_preds, y_test)\n",
        "\n",
        "    epoch_count.append(epoch)\n",
        "    loss_count.append(loss)\n",
        "    test_loss_count.append(test_loss)\n",
        "\n",
        "  if epoch % 100 == 0:\n",
        "    print(f'epoch: {epoch} | train_loss: {loss} | test_loss: {test_loss}')\n",
        "    print(model.state_dict())\n"
      ],
      "metadata": {
        "colab": {
          "base_uri": "https://localhost:8080/"
        },
        "id": "42R8OO1m3m6L",
        "outputId": "554140be-4ce9-43dd-f8d6-d59678c4136b"
      },
      "execution_count": null,
      "outputs": [
        {
          "output_type": "stream",
          "name": "stdout",
          "text": [
            "epoch: 0 | train_loss: 0.37455645203590393 | test_loss: 0.7890152335166931\n",
            "OrderedDict([('weights', tensor([0.4695])), ('bias', tensor([0.2774]))])\n",
            "epoch: 100 | train_loss: 0.018338877707719803 | test_loss: 0.033917032182216644\n",
            "OrderedDict([('weights', tensor([0.8586])), ('bias', tensor([0.3399]))])\n",
            "epoch: 200 | train_loss: 0.013530922122299671 | test_loss: 0.0015305280685424805\n",
            "OrderedDict([('weights', tensor([0.8990])), ('bias', tensor([0.3034]))])\n",
            "epoch: 300 | train_loss: 0.013530922122299671 | test_loss: 0.0015305280685424805\n",
            "OrderedDict([('weights', tensor([0.8990])), ('bias', tensor([0.3034]))])\n",
            "epoch: 400 | train_loss: 0.013530922122299671 | test_loss: 0.0015305280685424805\n",
            "OrderedDict([('weights', tensor([0.8990])), ('bias', tensor([0.3034]))])\n",
            "epoch: 500 | train_loss: 0.013530922122299671 | test_loss: 0.0015305280685424805\n",
            "OrderedDict([('weights', tensor([0.8990])), ('bias', tensor([0.3034]))])\n",
            "epoch: 600 | train_loss: 0.013530922122299671 | test_loss: 0.0015305280685424805\n",
            "OrderedDict([('weights', tensor([0.8990])), ('bias', tensor([0.3034]))])\n",
            "epoch: 700 | train_loss: 0.013530922122299671 | test_loss: 0.0015305280685424805\n",
            "OrderedDict([('weights', tensor([0.8990])), ('bias', tensor([0.3034]))])\n",
            "epoch: 800 | train_loss: 0.013530922122299671 | test_loss: 0.0015305280685424805\n",
            "OrderedDict([('weights', tensor([0.8990])), ('bias', tensor([0.3034]))])\n",
            "epoch: 900 | train_loss: 0.013530922122299671 | test_loss: 0.0015305280685424805\n",
            "OrderedDict([('weights', tensor([0.8990])), ('bias', tensor([0.3034]))])\n",
            "epoch: 1000 | train_loss: 0.013530922122299671 | test_loss: 0.0015305280685424805\n",
            "OrderedDict([('weights', tensor([0.8990])), ('bias', tensor([0.3034]))])\n",
            "epoch: 1100 | train_loss: 0.013530922122299671 | test_loss: 0.0015305280685424805\n",
            "OrderedDict([('weights', tensor([0.8990])), ('bias', tensor([0.3034]))])\n",
            "epoch: 1200 | train_loss: 0.013530922122299671 | test_loss: 0.0015305280685424805\n",
            "OrderedDict([('weights', tensor([0.8990])), ('bias', tensor([0.3034]))])\n",
            "epoch: 1300 | train_loss: 0.013530922122299671 | test_loss: 0.0015305280685424805\n",
            "OrderedDict([('weights', tensor([0.8990])), ('bias', tensor([0.3034]))])\n",
            "epoch: 1400 | train_loss: 0.013530922122299671 | test_loss: 0.0015305280685424805\n",
            "OrderedDict([('weights', tensor([0.8990])), ('bias', tensor([0.3034]))])\n",
            "epoch: 1500 | train_loss: 0.013530922122299671 | test_loss: 0.0015305280685424805\n",
            "OrderedDict([('weights', tensor([0.8990])), ('bias', tensor([0.3034]))])\n",
            "epoch: 1600 | train_loss: 0.013530922122299671 | test_loss: 0.0015305280685424805\n",
            "OrderedDict([('weights', tensor([0.8990])), ('bias', tensor([0.3034]))])\n",
            "epoch: 1700 | train_loss: 0.013530922122299671 | test_loss: 0.0015305280685424805\n",
            "OrderedDict([('weights', tensor([0.8990])), ('bias', tensor([0.3034]))])\n",
            "epoch: 1800 | train_loss: 0.013530922122299671 | test_loss: 0.0015305280685424805\n",
            "OrderedDict([('weights', tensor([0.8990])), ('bias', tensor([0.3034]))])\n",
            "epoch: 1900 | train_loss: 0.013530922122299671 | test_loss: 0.0015305280685424805\n",
            "OrderedDict([('weights', tensor([0.8990])), ('bias', tensor([0.3034]))])\n"
          ]
        }
      ]
    },
    {
      "cell_type": "code",
      "source": [
        "with torch.inference_mode():\n",
        "  y_preds_new = model(X_test)\n",
        "\n",
        "y_preds_new"
      ],
      "metadata": {
        "colab": {
          "base_uri": "https://localhost:8080/"
        },
        "id": "pE6nUL-t5YqM",
        "outputId": "bc124f7c-f9e8-481a-aba1-ecc8409a2cf1"
      },
      "execution_count": null,
      "outputs": [
        {
          "output_type": "execute_result",
          "data": {
            "text/plain": [
              "tensor([[1.7192],\n",
              "        [1.7549],\n",
              "        [1.7905],\n",
              "        [1.8262],\n",
              "        [1.8618],\n",
              "        [1.8975],\n",
              "        [1.9331],\n",
              "        [1.9688],\n",
              "        [2.0044],\n",
              "        [2.0401]])"
            ]
          },
          "metadata": {},
          "execution_count": 171
        }
      ]
    },
    {
      "cell_type": "code",
      "source": [
        "y_test"
      ],
      "metadata": {
        "colab": {
          "base_uri": "https://localhost:8080/"
        },
        "id": "g1KSNAXv5rLC",
        "outputId": "18199083-195c-4ada-a10d-d3477d212fed"
      },
      "execution_count": null,
      "outputs": [
        {
          "output_type": "execute_result",
          "data": {
            "text/plain": [
              "tensor([[1.7400],\n",
              "        [1.7760],\n",
              "        [1.8120],\n",
              "        [1.8480],\n",
              "        [1.8840],\n",
              "        [1.9200],\n",
              "        [1.9560],\n",
              "        [1.9920],\n",
              "        [2.0280],\n",
              "        [2.0640]])"
            ]
          },
          "metadata": {},
          "execution_count": 147
        }
      ]
    },
    {
      "cell_type": "code",
      "source": [
        "plot_predictions(predictions = y_preds_new)"
      ],
      "metadata": {
        "colab": {
          "base_uri": "https://localhost:8080/",
          "height": 599
        },
        "id": "PfCRm79U5stm",
        "outputId": "9d5117f7-2ace-4c40-90d6-1640abbd939c"
      },
      "execution_count": null,
      "outputs": [
        {
          "output_type": "display_data",
          "data": {
            "text/plain": [
              "<Figure size 1000x700 with 1 Axes>"
            ],
            "image/png": "[encoded data removed]"
          },
          "metadata": {}
        }
      ]
    },
    {
      "cell_type": "code",
      "source": [
        "import numpy as np\n",
        "plt.plot(epoch_count, np.array(torch.tensor(loss_count).numpy()), color = 'b')\n",
        "plt.plot(epoch_count, test_loss_count)\n",
        "plt.show()"
      ],
      "metadata": {
        "colab": {
          "base_uri": "https://localhost:8080/",
          "height": 430
        },
        "id": "y2d5OhSZ59hu",
        "outputId": "e732fcde-09f1-4cdd-8d02-7d1e5ae38ab0"
      },
      "execution_count": null,
      "outputs": [
        {
          "output_type": "display_data",
          "data": {
            "text/plain": [
              "<Figure size 640x480 with 1 Axes>"
            ],
            "image/png": "[encoded data removed]"
          },
          "metadata": {}
        }
      ]
    },
    {
      "cell_type": "code",
      "source": [
        "torch.save(obj = model.state_dict(),\n",
        "         f = 'model.pth')"
      ],
      "metadata": {
        "id": "6dY48Uqv6wH_"
      },
      "execution_count": null,
      "outputs": []
    },
    {
      "cell_type": "code",
      "source": [
        "loaded_model = torch.load(f = 'model.pth')\n",
        "loaded_model"
      ],
      "metadata": {
        "colab": {
          "base_uri": "https://localhost:8080/"
        },
        "id": "fDEMqdri-4et",
        "outputId": "62e9f386-f1d3-4a6a-c979-20f2e19aaff4"
      },
      "execution_count": null,
      "outputs": [
        {
          "output_type": "execute_result",
          "data": {
            "text/plain": [
              "OrderedDict([('weights', tensor([0.8912])), ('bias', tensor([0.2934]))])"
            ]
          },
          "metadata": {},
          "execution_count": 179
        }
      ]
    },
    {
      "cell_type": "code",
      "source": [],
      "metadata": {
        "id": "KNwAb-4m_B3n"
      },
      "execution_count": null,
      "outputs": []
    }
  ]
}