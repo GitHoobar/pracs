{
  "nbformat": 4,
  "nbformat_minor": 0,
  "metadata": {
    "colab": {
      "provenance": []
    },
    "kernelspec": {
      "name": "python3",
      "display_name": "Python 3"
    },
    "language_info": {
      "name": "python"
    }
  },
  "cells": [
    {
      "cell_type": "code",
      "execution_count": null,
      "metadata": {
        "id": "23yuZ4YAjLg3"
      },
      "outputs": [],
      "source": [
        "import numpy as np\n",
        "from PIL import Image\n",
        "import torch\n",
        "import torch.nn as nn\n",
        "import torch.nn.functional as F"
      ]
    },
    {
      "cell_type": "code",
      "source": [
        "class AlexNet(nn.Module):\n",
        "  def __init__(self):\n",
        "    super().__init__()\n",
        "    self.layer = nn.Sequential( nn.Conv2d(in_channel = 3, out_channel = 96, kernel_size = 11, stride = 4),\n",
        "                                nn.ReLU(),\n",
        "                                nn.MaxPool2d(kernel_size = 3, stride = 2),\n",
        "                                nn.BatchNorm2d(96),\n",
        "                                nn.Conv2d(96, 256, 5, padding = 'same'),\n",
        "                                nn.ReLU(),\n",
        "                                nn.MaxPool2d(3, 2),\n",
        "                                nn.BatchNorm2d(256),\n",
        "                                nn.Conv2d(256, 384, 3, padding = 'same'),\n",
        "                                nn.ReLU(),\n",
        "                                nn.BatchNorm2d(384),\n",
        "                                nn.conv2d(384, 384, 3, padding = 'same'),\n",
        "                                nn.ReLU(),\n",
        "                                nn.BatchNorm2d(384),\n",
        "                                nn.conv2d(384, 256, 3, padding = 'same'),\n",
        "                                nn.ReLU(),\n",
        "                                nn.MaxPool2d(3, 2),\n",
        "                                nn.BatchNorm2d(256),\n",
        "                                nn.Linear(256 * 6 * 6, 4096),\n",
        "                                nn.ReLU(),\n",
        "                                nn.Dropout(0.5),\n",
        "                                nn.Linear(4096, 4096),\n",
        "                                nn.ReLU(),\n",
        "                                nn.Dropout(0.5),\n",
        "                                nn.Linear(4096, 1000),\n",
        "                                F.softmax(1000)\n",
        "    )\n",
        "\n",
        "  def forward(self,x):\n",
        "    return self.layer(x)"
      ],
      "metadata": {
        "id": "xzP7PCi4jOSe"
      },
      "execution_count": null,
      "outputs": []
    },
    {
      "cell_type": "code",
      "source": [
        "def transform(x):\n",
        "    x = [[Image.fromarray(z).resize((227, 227)) for z in y] for y in x]\n",
        "    x = np.stack([np.stack([np.asarray(z) for z in y], axis=0) for y in x], axis=0)\n",
        "    x = x.reshape(-1, 3, 227, 227)\n",
        "    return x"
      ],
      "metadata": {
        "id": "fzDJ2kJun6WN"
      },
      "execution_count": null,
      "outputs": []
    },
    {
      "cell_type": "code",
      "source": [
        "(X_train, Y_train), (X_test, Y_test) = fetch_cifar(), fetch_cifar(train=False)\n",
        "model = AlexNet()\n",
        "learning_rate = 0.005\n",
        "for _ in range(10):\n",
        "    optimizer = optim.SGD(optim.get_parameters(model), lr=learning_rate, momentum=0.9)\n",
        "    train(model, X_train, Y_train, optimizer, 1000, BS=64, transform=transform)\n",
        "    evaluate(model, X_test, Y_test, transform=transform)\n",
        "    learning_rate *= 0.6"
      ],
      "metadata": {
        "id": "Mm_X60Zbn8p4"
      },
      "execution_count": null,
      "outputs": []
    }
  ]
}